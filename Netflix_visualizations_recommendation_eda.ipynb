{
  "cells": [
    {
      "cell_type": "markdown",
      "metadata": {
        "id": "view-in-github",
        "colab_type": "text"
      },
      "source": [
        "<a href=\"https://colab.research.google.com/github/milleniaizzanch/Mini-Project/blob/main/Netflix_visualizations_recommendation_eda.ipynb\" target=\"_parent\"><img src=\"https://colab.research.google.com/assets/colab-badge.svg\" alt=\"Open In Colab\"/></a>"
      ]
    },
    {
      "cell_type": "markdown",
      "metadata": {
        "papermill": {
          "duration": 0.06944,
          "end_time": "2021-02-25T06:29:53.537331",
          "exception": false,
          "start_time": "2021-02-25T06:29:53.467891",
          "status": "completed"
        },
        "tags": [],
        "id": "NZOMU3JCz8dq"
      },
      "source": [
        "# **Netflix is an application that keeps growing bigger and faster with its popularity, shows and content. This is an EDA or a story telling through its data along with a content-based recommendation system and a wide range of different graphs and visuals.**"
      ]
    },
    {
      "cell_type": "markdown",
      "metadata": {
        "papermill": {
          "duration": 0.065279,
          "end_time": "2021-02-25T06:29:53.668546",
          "exception": false,
          "start_time": "2021-02-25T06:29:53.603267",
          "status": "completed"
        },
        "tags": [],
        "id": "sUxH3Widz8d1"
      },
      "source": [
        "Please Upvote if you like the notebook 😀and share possible improvements in the comments."
      ]
    },
    {
      "cell_type": "markdown",
      "metadata": {
        "papermill": {
          "duration": 0.067302,
          "end_time": "2021-02-25T06:29:53.803231",
          "exception": false,
          "start_time": "2021-02-25T06:29:53.735929",
          "status": "completed"
        },
        "tags": [],
        "id": "Wjr-YRmXz8d3"
      },
      "source": [
        "![](https://media.giphy.com/media/oenruB2DKC7p6/giphy.gif)"
      ]
    },
    {
      "cell_type": "code",
      "execution_count": null,
      "metadata": {
        "_cell_guid": "b1076dfc-b9ad-4769-8c92-a6c4dae69d19",
        "_kg_hide-input": true,
        "_kg_hide-output": true,
        "_uuid": "8f2839f25d086af736a60e9eeb907d3b93b6e0e5",
        "papermill": {
          "duration": 0.074621,
          "end_time": "2021-02-25T06:29:53.943174",
          "exception": false,
          "start_time": "2021-02-25T06:29:53.868553",
          "status": "completed"
        },
        "tags": [],
        "id": "OsKUOcf1z8d4"
      },
      "outputs": [],
      "source": [
        "# This Python 3 environment comes with many helpful analytics libraries installed\n",
        "# It is defined by the kaggle/python docker image: https://github.com/kaggle/docker-python\n",
        "# For example, here's several helpful packages to load in \n",
        "\n",
        "\n",
        "\n",
        "# Input data files are available in the \"../input/\" directory.\n",
        "# For example, running this (by clicking run or pressing Shift+Enter) will list all files under the input directory\n",
        "\n",
        "#import os\n",
        "#for dirname, _, filenames in os.walk('/kaggle/input'):\n",
        "  #  for filename in filenames:\n",
        "   #     print(os.path.join(dirname, filename))\n",
        "\n",
        "# Any results you write to the current directory are saved as output."
      ]
    },
    {
      "cell_type": "code",
      "execution_count": null,
      "metadata": {
        "_kg_hide-input": true,
        "papermill": {
          "duration": 1.130196,
          "end_time": "2021-02-25T06:29:55.138918",
          "exception": false,
          "start_time": "2021-02-25T06:29:54.008722",
          "status": "completed"
        },
        "tags": [],
        "id": "Lcxcfm8_z8d5"
      },
      "outputs": [],
      "source": [
        "import numpy as np # linear algebra\n",
        "import pandas as pd # data processing, CSV file I/O (e.g. pd.read_csv)import seaborn as sns\n",
        "import matplotlib.pyplot as plt\n",
        "import seaborn as sns\n",
        "import matplotlib.pyplot as plt\n"
      ]
    },
    {
      "cell_type": "markdown",
      "metadata": {
        "papermill": {
          "duration": 0.066059,
          "end_time": "2021-02-25T06:29:55.272130",
          "exception": false,
          "start_time": "2021-02-25T06:29:55.206071",
          "status": "completed"
        },
        "tags": [],
        "id": "wpul1YOkz8d6"
      },
      "source": [
        "# Loading the dataset"
      ]
    },
    {
      "cell_type": "code",
      "source": [
        "!wget -O netflix_titles.csv https://raw.githubusercontent.com/kirancakra/Machine-Learning-Netflix-/main/netflix_titles.csv"
      ],
      "metadata": {
        "colab": {
          "base_uri": "https://localhost:8080/"
        },
        "id": "OUz0cNa902qR",
        "outputId": "5c2c13ca-611a-4a47-c17f-5a223d78cc17"
      },
      "execution_count": null,
      "outputs": [
        {
          "output_type": "stream",
          "name": "stdout",
          "text": [
            "--2022-04-01 13:21:52--  https://raw.githubusercontent.com/kirancakra/Machine-Learning-Netflix-/main/netflix_titles.csv\n",
            "Resolving raw.githubusercontent.com (raw.githubusercontent.com)... 185.199.111.133, 185.199.110.133, 185.199.108.133, ...\n",
            "Connecting to raw.githubusercontent.com (raw.githubusercontent.com)|185.199.111.133|:443... connected.\n",
            "HTTP request sent, awaiting response... 200 OK\n",
            "Length: 3000491 (2.9M) [text/plain]\n",
            "Saving to: ‘netflix_titles.csv’\n",
            "\n",
            "netflix_titles.csv  100%[===================>]   2.86M  --.-KB/s    in 0.02s   \n",
            "\n",
            "2022-04-01 13:21:52 (182 MB/s) - ‘netflix_titles.csv’ saved [3000491/3000491]\n",
            "\n"
          ]
        }
      ]
    },
    {
      "cell_type": "code",
      "execution_count": null,
      "metadata": {
        "_cell_guid": "79c7e3d0-c299-4dcb-8224-4455121ee9b0",
        "_kg_hide-input": false,
        "_kg_hide-output": false,
        "_uuid": "d629ff2d2480ee46fbb7e2d37f6b5fab8052498a",
        "papermill": {
          "duration": 0.246427,
          "end_time": "2021-02-25T06:29:55.585364",
          "exception": false,
          "start_time": "2021-02-25T06:29:55.338937",
          "status": "completed"
        },
        "tags": [],
        "colab": {
          "base_uri": "https://localhost:8080/",
          "height": 337
        },
        "id": "afalpRiHz8d7",
        "outputId": "8f3f5959-96de-41b0-ae50-e8b2c9624f47"
      },
      "outputs": [
        {
          "output_type": "execute_result",
          "data": {
            "text/plain": [
              "  show_id     type  title           director  \\\n",
              "0      s1  TV Show     3%                NaN   \n",
              "1      s2    Movie   7:19  Jorge Michel Grau   \n",
              "2      s3    Movie  23:59       Gilbert Chan   \n",
              "3      s4    Movie      9        Shane Acker   \n",
              "4      s5    Movie     21     Robert Luketic   \n",
              "\n",
              "                                                cast        country  \\\n",
              "0  João Miguel, Bianca Comparato, Michel Gomes, R...         Brazil   \n",
              "1  Demián Bichir, Héctor Bonilla, Oscar Serrano, ...         Mexico   \n",
              "2  Tedd Chan, Stella Chung, Henley Hii, Lawrence ...      Singapore   \n",
              "3  Elijah Wood, John C. Reilly, Jennifer Connelly...  United States   \n",
              "4  Jim Sturgess, Kevin Spacey, Kate Bosworth, Aar...  United States   \n",
              "\n",
              "          date_added  release_year rating   duration  \\\n",
              "0    August 14, 2020          2020  TV-MA  4 Seasons   \n",
              "1  December 23, 2016          2016  TV-MA     93 min   \n",
              "2  December 20, 2018          2011      R     78 min   \n",
              "3  November 16, 2017          2009  PG-13     80 min   \n",
              "4    January 1, 2020          2008  PG-13    123 min   \n",
              "\n",
              "                                           listed_in  \\\n",
              "0  International TV Shows, TV Dramas, TV Sci-Fi &...   \n",
              "1                       Dramas, International Movies   \n",
              "2                Horror Movies, International Movies   \n",
              "3  Action & Adventure, Independent Movies, Sci-Fi...   \n",
              "4                                             Dramas   \n",
              "\n",
              "                                         description  \n",
              "0  In a future where the elite inhabit an island ...  \n",
              "1  After a devastating earthquake hits Mexico Cit...  \n",
              "2  When an army recruit is found dead, his fellow...  \n",
              "3  In a postapocalyptic world, rag-doll robots hi...  \n",
              "4  A brilliant group of students become card-coun...  "
            ],
            "text/html": [
              "\n",
              "  <div id=\"df-51b78b4a-d7b4-4e7e-91c2-147af061faa3\">\n",
              "    <div class=\"colab-df-container\">\n",
              "      <div>\n",
              "<style scoped>\n",
              "    .dataframe tbody tr th:only-of-type {\n",
              "        vertical-align: middle;\n",
              "    }\n",
              "\n",
              "    .dataframe tbody tr th {\n",
              "        vertical-align: top;\n",
              "    }\n",
              "\n",
              "    .dataframe thead th {\n",
              "        text-align: right;\n",
              "    }\n",
              "</style>\n",
              "<table border=\"1\" class=\"dataframe\">\n",
              "  <thead>\n",
              "    <tr style=\"text-align: right;\">\n",
              "      <th></th>\n",
              "      <th>show_id</th>\n",
              "      <th>type</th>\n",
              "      <th>title</th>\n",
              "      <th>director</th>\n",
              "      <th>cast</th>\n",
              "      <th>country</th>\n",
              "      <th>date_added</th>\n",
              "      <th>release_year</th>\n",
              "      <th>rating</th>\n",
              "      <th>duration</th>\n",
              "      <th>listed_in</th>\n",
              "      <th>description</th>\n",
              "    </tr>\n",
              "  </thead>\n",
              "  <tbody>\n",
              "    <tr>\n",
              "      <th>0</th>\n",
              "      <td>s1</td>\n",
              "      <td>TV Show</td>\n",
              "      <td>3%</td>\n",
              "      <td>NaN</td>\n",
              "      <td>João Miguel, Bianca Comparato, Michel Gomes, R...</td>\n",
              "      <td>Brazil</td>\n",
              "      <td>August 14, 2020</td>\n",
              "      <td>2020</td>\n",
              "      <td>TV-MA</td>\n",
              "      <td>4 Seasons</td>\n",
              "      <td>International TV Shows, TV Dramas, TV Sci-Fi &amp;...</td>\n",
              "      <td>In a future where the elite inhabit an island ...</td>\n",
              "    </tr>\n",
              "    <tr>\n",
              "      <th>1</th>\n",
              "      <td>s2</td>\n",
              "      <td>Movie</td>\n",
              "      <td>7:19</td>\n",
              "      <td>Jorge Michel Grau</td>\n",
              "      <td>Demián Bichir, Héctor Bonilla, Oscar Serrano, ...</td>\n",
              "      <td>Mexico</td>\n",
              "      <td>December 23, 2016</td>\n",
              "      <td>2016</td>\n",
              "      <td>TV-MA</td>\n",
              "      <td>93 min</td>\n",
              "      <td>Dramas, International Movies</td>\n",
              "      <td>After a devastating earthquake hits Mexico Cit...</td>\n",
              "    </tr>\n",
              "    <tr>\n",
              "      <th>2</th>\n",
              "      <td>s3</td>\n",
              "      <td>Movie</td>\n",
              "      <td>23:59</td>\n",
              "      <td>Gilbert Chan</td>\n",
              "      <td>Tedd Chan, Stella Chung, Henley Hii, Lawrence ...</td>\n",
              "      <td>Singapore</td>\n",
              "      <td>December 20, 2018</td>\n",
              "      <td>2011</td>\n",
              "      <td>R</td>\n",
              "      <td>78 min</td>\n",
              "      <td>Horror Movies, International Movies</td>\n",
              "      <td>When an army recruit is found dead, his fellow...</td>\n",
              "    </tr>\n",
              "    <tr>\n",
              "      <th>3</th>\n",
              "      <td>s4</td>\n",
              "      <td>Movie</td>\n",
              "      <td>9</td>\n",
              "      <td>Shane Acker</td>\n",
              "      <td>Elijah Wood, John C. Reilly, Jennifer Connelly...</td>\n",
              "      <td>United States</td>\n",
              "      <td>November 16, 2017</td>\n",
              "      <td>2009</td>\n",
              "      <td>PG-13</td>\n",
              "      <td>80 min</td>\n",
              "      <td>Action &amp; Adventure, Independent Movies, Sci-Fi...</td>\n",
              "      <td>In a postapocalyptic world, rag-doll robots hi...</td>\n",
              "    </tr>\n",
              "    <tr>\n",
              "      <th>4</th>\n",
              "      <td>s5</td>\n",
              "      <td>Movie</td>\n",
              "      <td>21</td>\n",
              "      <td>Robert Luketic</td>\n",
              "      <td>Jim Sturgess, Kevin Spacey, Kate Bosworth, Aar...</td>\n",
              "      <td>United States</td>\n",
              "      <td>January 1, 2020</td>\n",
              "      <td>2008</td>\n",
              "      <td>PG-13</td>\n",
              "      <td>123 min</td>\n",
              "      <td>Dramas</td>\n",
              "      <td>A brilliant group of students become card-coun...</td>\n",
              "    </tr>\n",
              "  </tbody>\n",
              "</table>\n",
              "</div>\n",
              "      <button class=\"colab-df-convert\" onclick=\"convertToInteractive('df-51b78b4a-d7b4-4e7e-91c2-147af061faa3')\"\n",
              "              title=\"Convert this dataframe to an interactive table.\"\n",
              "              style=\"display:none;\">\n",
              "        \n",
              "  <svg xmlns=\"http://www.w3.org/2000/svg\" height=\"24px\"viewBox=\"0 0 24 24\"\n",
              "       width=\"24px\">\n",
              "    <path d=\"M0 0h24v24H0V0z\" fill=\"none\"/>\n",
              "    <path d=\"M18.56 5.44l.94 2.06.94-2.06 2.06-.94-2.06-.94-.94-2.06-.94 2.06-2.06.94zm-11 1L8.5 8.5l.94-2.06 2.06-.94-2.06-.94L8.5 2.5l-.94 2.06-2.06.94zm10 10l.94 2.06.94-2.06 2.06-.94-2.06-.94-.94-2.06-.94 2.06-2.06.94z\"/><path d=\"M17.41 7.96l-1.37-1.37c-.4-.4-.92-.59-1.43-.59-.52 0-1.04.2-1.43.59L10.3 9.45l-7.72 7.72c-.78.78-.78 2.05 0 2.83L4 21.41c.39.39.9.59 1.41.59.51 0 1.02-.2 1.41-.59l7.78-7.78 2.81-2.81c.8-.78.8-2.07 0-2.86zM5.41 20L4 18.59l7.72-7.72 1.47 1.35L5.41 20z\"/>\n",
              "  </svg>\n",
              "      </button>\n",
              "      \n",
              "  <style>\n",
              "    .colab-df-container {\n",
              "      display:flex;\n",
              "      flex-wrap:wrap;\n",
              "      gap: 12px;\n",
              "    }\n",
              "\n",
              "    .colab-df-convert {\n",
              "      background-color: #E8F0FE;\n",
              "      border: none;\n",
              "      border-radius: 50%;\n",
              "      cursor: pointer;\n",
              "      display: none;\n",
              "      fill: #1967D2;\n",
              "      height: 32px;\n",
              "      padding: 0 0 0 0;\n",
              "      width: 32px;\n",
              "    }\n",
              "\n",
              "    .colab-df-convert:hover {\n",
              "      background-color: #E2EBFA;\n",
              "      box-shadow: 0px 1px 2px rgba(60, 64, 67, 0.3), 0px 1px 3px 1px rgba(60, 64, 67, 0.15);\n",
              "      fill: #174EA6;\n",
              "    }\n",
              "\n",
              "    [theme=dark] .colab-df-convert {\n",
              "      background-color: #3B4455;\n",
              "      fill: #D2E3FC;\n",
              "    }\n",
              "\n",
              "    [theme=dark] .colab-df-convert:hover {\n",
              "      background-color: #434B5C;\n",
              "      box-shadow: 0px 1px 3px 1px rgba(0, 0, 0, 0.15);\n",
              "      filter: drop-shadow(0px 1px 2px rgba(0, 0, 0, 0.3));\n",
              "      fill: #FFFFFF;\n",
              "    }\n",
              "  </style>\n",
              "\n",
              "      <script>\n",
              "        const buttonEl =\n",
              "          document.querySelector('#df-51b78b4a-d7b4-4e7e-91c2-147af061faa3 button.colab-df-convert');\n",
              "        buttonEl.style.display =\n",
              "          google.colab.kernel.accessAllowed ? 'block' : 'none';\n",
              "\n",
              "        async function convertToInteractive(key) {\n",
              "          const element = document.querySelector('#df-51b78b4a-d7b4-4e7e-91c2-147af061faa3');\n",
              "          const dataTable =\n",
              "            await google.colab.kernel.invokeFunction('convertToInteractive',\n",
              "                                                     [key], {});\n",
              "          if (!dataTable) return;\n",
              "\n",
              "          const docLinkHtml = 'Like what you see? Visit the ' +\n",
              "            '<a target=\"_blank\" href=https://colab.research.google.com/notebooks/data_table.ipynb>data table notebook</a>'\n",
              "            + ' to learn more about interactive tables.';\n",
              "          element.innerHTML = '';\n",
              "          dataTable['output_type'] = 'display_data';\n",
              "          await google.colab.output.renderOutput(dataTable, element);\n",
              "          const docLink = document.createElement('div');\n",
              "          docLink.innerHTML = docLinkHtml;\n",
              "          element.appendChild(docLink);\n",
              "        }\n",
              "      </script>\n",
              "    </div>\n",
              "  </div>\n",
              "  "
            ]
          },
          "metadata": {},
          "execution_count": 4
        }
      ],
      "source": [
        "netflix_overall=pd.read_csv(\"https://raw.githubusercontent.com/kirancakra/Machine-Learning-Netflix-/main/netflix_titles.csv\")\n",
        "netflix_overall.head()"
      ]
    },
    {
      "cell_type": "markdown",
      "metadata": {
        "papermill": {
          "duration": 0.066136,
          "end_time": "2021-02-25T06:29:55.718357",
          "exception": false,
          "start_time": "2021-02-25T06:29:55.652221",
          "status": "completed"
        },
        "tags": [],
        "id": "4nKpM9wDz8d8"
      },
      "source": [
        "Therefore, it is clear that the dataset contains 12 columns for exploratory analysis."
      ]
    },
    {
      "cell_type": "code",
      "execution_count": null,
      "metadata": {
        "_kg_hide-input": true,
        "_kg_hide-output": true,
        "papermill": {
          "duration": 0.091772,
          "end_time": "2021-02-25T06:29:55.876733",
          "exception": false,
          "start_time": "2021-02-25T06:29:55.784961",
          "status": "completed"
        },
        "tags": [],
        "colab": {
          "base_uri": "https://localhost:8080/"
        },
        "id": "mRXH7j_0z8d9",
        "outputId": "82f442f1-55e8-409c-fa6c-0835bacfbc2d"
      },
      "outputs": [
        {
          "output_type": "execute_result",
          "data": {
            "text/plain": [
              "show_id         7787\n",
              "type            7787\n",
              "title           7787\n",
              "director        5398\n",
              "cast            7069\n",
              "country         7280\n",
              "date_added      7777\n",
              "release_year    7787\n",
              "rating          7780\n",
              "duration        7787\n",
              "listed_in       7787\n",
              "description     7787\n",
              "dtype: int64"
            ]
          },
          "metadata": {},
          "execution_count": 5
        }
      ],
      "source": [
        "netflix_overall.count()"
      ]
    },
    {
      "cell_type": "code",
      "execution_count": null,
      "metadata": {
        "_kg_hide-input": true,
        "papermill": {
          "duration": 0.084895,
          "end_time": "2021-02-25T06:29:56.029279",
          "exception": false,
          "start_time": "2021-02-25T06:29:55.944384",
          "status": "completed"
        },
        "tags": [],
        "id": "ckUagD5vz8d_"
      },
      "outputs": [],
      "source": [
        "netflix_shows=netflix_overall[netflix_overall['type']=='TV Show']\n"
      ]
    },
    {
      "cell_type": "code",
      "execution_count": null,
      "metadata": {
        "_kg_hide-input": true,
        "papermill": {
          "duration": 0.085461,
          "end_time": "2021-02-25T06:29:56.181705",
          "exception": false,
          "start_time": "2021-02-25T06:29:56.096244",
          "status": "completed"
        },
        "tags": [],
        "id": "7CY1vygxz8eA"
      },
      "outputs": [],
      "source": [
        "netflix_movies=netflix_overall[netflix_overall['type']=='Movie']"
      ]
    },
    {
      "cell_type": "markdown",
      "metadata": {
        "papermill": {
          "duration": 0.068831,
          "end_time": "2021-02-25T06:29:56.455553",
          "exception": false,
          "start_time": "2021-02-25T06:29:56.386722",
          "status": "completed"
        },
        "tags": [],
        "id": "ahYcyk81z8eB"
      },
      "source": [
        "# Analysis of Movies vs TV Shows."
      ]
    },
    {
      "cell_type": "code",
      "execution_count": null,
      "metadata": {
        "papermill": {
          "duration": 0.244335,
          "end_time": "2021-02-25T06:29:56.768521",
          "exception": false,
          "start_time": "2021-02-25T06:29:56.524186",
          "status": "completed"
        },
        "tags": [],
        "colab": {
          "base_uri": "https://localhost:8080/",
          "height": 285
        },
        "id": "iKqmk7xTz8eB",
        "outputId": "e1b30e17-6828-4839-e435-ee12f6b56f4a"
      },
      "outputs": [
        {
          "output_type": "display_data",
          "data": {
            "text/plain": [
              "<Figure size 432x288 with 1 Axes>"
            ],
            "image/png": "[encoded data removed]"
          },
          "metadata": {}
        }
      ],
      "source": [
        "sns.set(style=\"darkgrid\")\n",
        "ax = sns.countplot(x=\"type\", data=netflix_overall, palette=\"Set2\")"
      ]
    },
    {
      "cell_type": "markdown",
      "metadata": {
        "papermill": {
          "duration": 0.06878,
          "end_time": "2021-02-25T06:29:56.905657",
          "exception": false,
          "start_time": "2021-02-25T06:29:56.836877",
          "status": "completed"
        },
        "tags": [],
        "id": "FOMf5du3z8eC"
      },
      "source": [
        "It is evident that there are more Movies on Netflix than TV shows."
      ]
    },
    {
      "cell_type": "markdown",
      "metadata": {
        "papermill": {
          "duration": 0.068075,
          "end_time": "2021-02-25T06:29:57.042614",
          "exception": false,
          "start_time": "2021-02-25T06:29:56.974539",
          "status": "completed"
        },
        "tags": [],
        "id": "TarxeWk4z8eD"
      },
      "source": [
        "# If a producer wants to release some content, which month must he do so?( Month when least amount of content is added)"
      ]
    },
    {
      "cell_type": "code",
      "execution_count": null,
      "metadata": {
        "_kg_hide-input": true,
        "papermill": {
          "duration": 0.759949,
          "end_time": "2021-02-25T06:29:57.870491",
          "exception": false,
          "start_time": "2021-02-25T06:29:57.110542",
          "status": "completed"
        },
        "tags": [],
        "colab": {
          "base_uri": "https://localhost:8080/",
          "height": 1000
        },
        "id": "ohfLHeEIz8eD",
        "outputId": "249abe30-aa65-4e2e-d0b8-654e62a41fb7"
      },
      "outputs": [
        {
          "output_type": "stream",
          "name": "stderr",
          "text": [
            "findfont: Font family ['calibri'] not found. Falling back to DejaVu Sans.\n"
          ]
        },
        {
          "output_type": "display_data",
          "data": {
            "text/plain": [
              "<Figure size 2000x1400 with 2 Axes>"
            ],
            "image/png": "[encoded data removed]"
          },
          "metadata": {}
        }
      ],
      "source": [
        "netflix_date = netflix_shows[['date_added']].dropna()\n",
        "netflix_date['year'] = netflix_date['date_added'].apply(lambda x : x.split(', ')[-1])\n",
        "netflix_date['month'] = netflix_date['date_added'].apply(lambda x : x.lstrip().split(' ')[0])\n",
        "\n",
        "month_order = ['January', 'February', 'March', 'April', 'May', 'June', 'July', 'August', 'September', 'October', 'November', 'December'][::-1]\n",
        "df = netflix_date.groupby('year')['month'].value_counts().unstack().fillna(0)[month_order].T\n",
        "plt.figure(figsize=(10, 7), dpi=200)\n",
        "plt.pcolor(df, cmap='afmhot_r', edgecolors='white', linewidths=2) # heatmap\n",
        "plt.xticks(np.arange(0.5, len(df.columns), 1), df.columns, fontsize=7, fontfamily='serif')\n",
        "plt.yticks(np.arange(0.5, len(df.index), 1), df.index, fontsize=7, fontfamily='serif')\n",
        "\n",
        "plt.title('Netflix Contents Update', fontsize=12, fontfamily='calibri', fontweight='bold', position=(0.20, 1.0+0.02))\n",
        "cbar = plt.colorbar()\n",
        "\n",
        "cbar.ax.tick_params(labelsize=8) \n",
        "cbar.ax.minorticks_on()\n",
        "plt.show()"
      ]
    },
    {
      "cell_type": "markdown",
      "metadata": {
        "papermill": {
          "duration": 0.070251,
          "end_time": "2021-02-25T06:29:58.013600",
          "exception": false,
          "start_time": "2021-02-25T06:29:57.943349",
          "status": "completed"
        },
        "tags": [],
        "id": "HvhHvlf_z8eE"
      },
      "source": [
        "If the latest year 2019 is considered, January and December were the months when comparatively much less content was released.Therefore, these months may be a good choice for the success of a new release!"
      ]
    },
    {
      "cell_type": "markdown",
      "metadata": {
        "papermill": {
          "duration": 0.077134,
          "end_time": "2021-02-25T06:29:58.162775",
          "exception": false,
          "start_time": "2021-02-25T06:29:58.085641",
          "status": "completed"
        },
        "tags": [],
        "id": "jSLeRM1dz8eF"
      },
      "source": [
        "# Movie ratings analysis"
      ]
    },
    {
      "cell_type": "code",
      "execution_count": null,
      "metadata": {
        "papermill": {
          "duration": 0.426774,
          "end_time": "2021-02-25T06:29:58.674941",
          "exception": false,
          "start_time": "2021-02-25T06:29:58.248167",
          "status": "completed"
        },
        "tags": [],
        "colab": {
          "base_uri": "https://localhost:8080/",
          "height": 611
        },
        "id": "8c7vMYoQz8eF",
        "outputId": "cfa60700-9a39-4f4f-ae73-0a3cb020762a"
      },
      "outputs": [
        {
          "output_type": "display_data",
          "data": {
            "text/plain": [
              "<Figure size 864x720 with 1 Axes>"
            ],
            "image/png": "[encoded data removed]"
          },
          "metadata": {}
        }
      ],
      "source": [
        "plt.figure(figsize=(12,10))\n",
        "sns.set(style=\"darkgrid\")\n",
        "ax = sns.countplot(x=\"rating\", data=netflix_movies, palette=\"Set2\", order=netflix_movies['rating'].value_counts().index[0:15])"
      ]
    },
    {
      "cell_type": "markdown",
      "metadata": {
        "papermill": {
          "duration": 0.071015,
          "end_time": "2021-02-25T06:29:58.819355",
          "exception": false,
          "start_time": "2021-02-25T06:29:58.748340",
          "status": "completed"
        },
        "tags": [],
        "id": "avHTORaWz8eF"
      },
      "source": [
        "The largest count of movies are made with the 'TV-MA' rating.\"TV-MA\" is a rating assigned by the TV Parental Guidelines to a television program that was designed for mature audiences only. \n",
        "\n",
        "Second largest is the 'TV-14' stands for content that may be inappropriate for children younger than 14 years of age.\n",
        "\n",
        "Third largest is the  very popular 'R' rating.An R-rated film is a film that has been assessed as having material which may be unsuitable for children under the age of 17 by the Motion Picture Association of America; the MPAA writes \"Under 17 requires accompanying parent or adult guardian\"."
      ]
    },
    {
      "cell_type": "markdown",
      "metadata": {
        "papermill": {
          "duration": 0.072682,
          "end_time": "2021-02-25T06:29:58.965844",
          "exception": false,
          "start_time": "2021-02-25T06:29:58.893162",
          "status": "completed"
        },
        "tags": [],
        "id": "_IwwNaSsz8eG"
      },
      "source": [
        "# Analysing IMDB ratings to get top rated movies on Netflix"
      ]
    },
    {
      "cell_type": "code",
      "execution_count": null,
      "metadata": {
        "papermill": {
          "duration": 1.778568,
          "end_time": "2021-02-25T06:30:00.817264",
          "exception": false,
          "start_time": "2021-02-25T06:29:59.038696",
          "status": "completed"
        },
        "tags": [],
        "colab": {
          "base_uri": "https://localhost:8080/",
          "height": 381
        },
        "id": "j-Tlo3v-z8eG",
        "outputId": "10daf6ef-24f6-4b52-a539-31c684b9ec03"
      },
      "outputs": [
        {
          "output_type": "error",
          "ename": "FileNotFoundError",
          "evalue": "ignored",
          "traceback": [
            "\u001b[0;31m---------------------------------------------------------------------------\u001b[0m",
            "\u001b[0;31mFileNotFoundError\u001b[0m                         Traceback (most recent call last)",
            "\u001b[0;32m<ipython-input-11-725a91c26c36>\u001b[0m in \u001b[0;36m<module>\u001b[0;34m()\u001b[0m\n\u001b[0;32m----> 1\u001b[0;31m \u001b[0mimdb_ratings\u001b[0m\u001b[0;34m=\u001b[0m\u001b[0mpd\u001b[0m\u001b[0;34m.\u001b[0m\u001b[0mread_csv\u001b[0m\u001b[0;34m(\u001b[0m\u001b[0;34m'/kaggle/input/imdb-extensive-dataset/IMDb ratings.csv'\u001b[0m\u001b[0;34m,\u001b[0m\u001b[0musecols\u001b[0m\u001b[0;34m=\u001b[0m\u001b[0;34m[\u001b[0m\u001b[0;34m'weighted_average_vote'\u001b[0m\u001b[0;34m]\u001b[0m\u001b[0;34m)\u001b[0m\u001b[0;34m\u001b[0m\u001b[0;34m\u001b[0m\u001b[0m\n\u001b[0m\u001b[1;32m      2\u001b[0m \u001b[0mimdb_titles\u001b[0m\u001b[0;34m=\u001b[0m\u001b[0mpd\u001b[0m\u001b[0;34m.\u001b[0m\u001b[0mread_csv\u001b[0m\u001b[0;34m(\u001b[0m\u001b[0;34m'/kaggle/input/imdb-extensive-dataset/IMDb movies.csv'\u001b[0m\u001b[0;34m,\u001b[0m \u001b[0musecols\u001b[0m\u001b[0;34m=\u001b[0m\u001b[0;34m[\u001b[0m\u001b[0;34m'title'\u001b[0m\u001b[0;34m,\u001b[0m\u001b[0;34m'year'\u001b[0m\u001b[0;34m,\u001b[0m\u001b[0;34m'genre'\u001b[0m\u001b[0;34m]\u001b[0m\u001b[0;34m)\u001b[0m\u001b[0;34m\u001b[0m\u001b[0;34m\u001b[0m\u001b[0m\n\u001b[1;32m      3\u001b[0m ratings = pd.DataFrame({'Title':imdb_titles.title,\n\u001b[1;32m      4\u001b[0m                     \u001b[0;34m'Release Year'\u001b[0m\u001b[0;34m:\u001b[0m\u001b[0mimdb_titles\u001b[0m\u001b[0;34m.\u001b[0m\u001b[0myear\u001b[0m\u001b[0;34m,\u001b[0m\u001b[0;34m\u001b[0m\u001b[0;34m\u001b[0m\u001b[0m\n\u001b[1;32m      5\u001b[0m                     \u001b[0;34m'Rating'\u001b[0m\u001b[0;34m:\u001b[0m \u001b[0mimdb_ratings\u001b[0m\u001b[0;34m.\u001b[0m\u001b[0mweighted_average_vote\u001b[0m\u001b[0;34m,\u001b[0m\u001b[0;34m\u001b[0m\u001b[0;34m\u001b[0m\u001b[0m\n",
            "\u001b[0;32m/usr/local/lib/python3.7/dist-packages/pandas/util/_decorators.py\u001b[0m in \u001b[0;36mwrapper\u001b[0;34m(*args, **kwargs)\u001b[0m\n\u001b[1;32m    309\u001b[0m                     \u001b[0mstacklevel\u001b[0m\u001b[0;34m=\u001b[0m\u001b[0mstacklevel\u001b[0m\u001b[0;34m,\u001b[0m\u001b[0;34m\u001b[0m\u001b[0;34m\u001b[0m\u001b[0m\n\u001b[1;32m    310\u001b[0m                 )\n\u001b[0;32m--> 311\u001b[0;31m             \u001b[0;32mreturn\u001b[0m \u001b[0mfunc\u001b[0m\u001b[0;34m(\u001b[0m\u001b[0;34m*\u001b[0m\u001b[0margs\u001b[0m\u001b[0;34m,\u001b[0m \u001b[0;34m**\u001b[0m\u001b[0mkwargs\u001b[0m\u001b[0;34m)\u001b[0m\u001b[0;34m\u001b[0m\u001b[0;34m\u001b[0m\u001b[0m\n\u001b[0m\u001b[1;32m    312\u001b[0m \u001b[0;34m\u001b[0m\u001b[0m\n\u001b[1;32m    313\u001b[0m         \u001b[0;32mreturn\u001b[0m \u001b[0mwrapper\u001b[0m\u001b[0;34m\u001b[0m\u001b[0;34m\u001b[0m\u001b[0m\n",
            "\u001b[0;32m/usr/local/lib/python3.7/dist-packages/pandas/io/parsers/readers.py\u001b[0m in \u001b[0;36mread_csv\u001b[0;34m(filepath_or_buffer, sep, delimiter, header, names, index_col, usecols, squeeze, prefix, mangle_dupe_cols, dtype, engine, converters, true_values, false_values, skipinitialspace, skiprows, skipfooter, nrows, na_values, keep_default_na, na_filter, verbose, skip_blank_lines, parse_dates, infer_datetime_format, keep_date_col, date_parser, dayfirst, cache_dates, iterator, chunksize, compression, thousands, decimal, lineterminator, quotechar, quoting, doublequote, escapechar, comment, encoding, encoding_errors, dialect, error_bad_lines, warn_bad_lines, on_bad_lines, delim_whitespace, low_memory, memory_map, float_precision, storage_options)\u001b[0m\n\u001b[1;32m    584\u001b[0m     \u001b[0mkwds\u001b[0m\u001b[0;34m.\u001b[0m\u001b[0mupdate\u001b[0m\u001b[0;34m(\u001b[0m\u001b[0mkwds_defaults\u001b[0m\u001b[0;34m)\u001b[0m\u001b[0;34m\u001b[0m\u001b[0;34m\u001b[0m\u001b[0m\n\u001b[1;32m    585\u001b[0m \u001b[0;34m\u001b[0m\u001b[0m\n\u001b[0;32m--> 586\u001b[0;31m     \u001b[0;32mreturn\u001b[0m \u001b[0m_read\u001b[0m\u001b[0;34m(\u001b[0m\u001b[0mfilepath_or_buffer\u001b[0m\u001b[0;34m,\u001b[0m \u001b[0mkwds\u001b[0m\u001b[0;34m)\u001b[0m\u001b[0;34m\u001b[0m\u001b[0;34m\u001b[0m\u001b[0m\n\u001b[0m\u001b[1;32m    587\u001b[0m \u001b[0;34m\u001b[0m\u001b[0m\n\u001b[1;32m    588\u001b[0m \u001b[0;34m\u001b[0m\u001b[0m\n",
            "\u001b[0;32m/usr/local/lib/python3.7/dist-packages/pandas/io/parsers/readers.py\u001b[0m in \u001b[0;36m_read\u001b[0;34m(filepath_or_buffer, kwds)\u001b[0m\n\u001b[1;32m    480\u001b[0m \u001b[0;34m\u001b[0m\u001b[0m\n\u001b[1;32m    481\u001b[0m     \u001b[0;31m# Create the parser.\u001b[0m\u001b[0;34m\u001b[0m\u001b[0;34m\u001b[0m\u001b[0;34m\u001b[0m\u001b[0m\n\u001b[0;32m--> 482\u001b[0;31m     \u001b[0mparser\u001b[0m \u001b[0;34m=\u001b[0m \u001b[0mTextFileReader\u001b[0m\u001b[0;34m(\u001b[0m\u001b[0mfilepath_or_buffer\u001b[0m\u001b[0;34m,\u001b[0m \u001b[0;34m**\u001b[0m\u001b[0mkwds\u001b[0m\u001b[0;34m)\u001b[0m\u001b[0;34m\u001b[0m\u001b[0;34m\u001b[0m\u001b[0m\n\u001b[0m\u001b[1;32m    483\u001b[0m \u001b[0;34m\u001b[0m\u001b[0m\n\u001b[1;32m    484\u001b[0m     \u001b[0;32mif\u001b[0m \u001b[0mchunksize\u001b[0m \u001b[0;32mor\u001b[0m \u001b[0miterator\u001b[0m\u001b[0;34m:\u001b[0m\u001b[0;34m\u001b[0m\u001b[0;34m\u001b[0m\u001b[0m\n",
            "\u001b[0;32m/usr/local/lib/python3.7/dist-packages/pandas/io/parsers/readers.py\u001b[0m in \u001b[0;36m__init__\u001b[0;34m(self, f, engine, **kwds)\u001b[0m\n\u001b[1;32m    809\u001b[0m             \u001b[0mself\u001b[0m\u001b[0;34m.\u001b[0m\u001b[0moptions\u001b[0m\u001b[0;34m[\u001b[0m\u001b[0;34m\"has_index_names\"\u001b[0m\u001b[0;34m]\u001b[0m \u001b[0;34m=\u001b[0m \u001b[0mkwds\u001b[0m\u001b[0;34m[\u001b[0m\u001b[0;34m\"has_index_names\"\u001b[0m\u001b[0;34m]\u001b[0m\u001b[0;34m\u001b[0m\u001b[0;34m\u001b[0m\u001b[0m\n\u001b[1;32m    810\u001b[0m \u001b[0;34m\u001b[0m\u001b[0m\n\u001b[0;32m--> 811\u001b[0;31m         \u001b[0mself\u001b[0m\u001b[0;34m.\u001b[0m\u001b[0m_engine\u001b[0m \u001b[0;34m=\u001b[0m \u001b[0mself\u001b[0m\u001b[0;34m.\u001b[0m\u001b[0m_make_engine\u001b[0m\u001b[0;34m(\u001b[0m\u001b[0mself\u001b[0m\u001b[0;34m.\u001b[0m\u001b[0mengine\u001b[0m\u001b[0;34m)\u001b[0m\u001b[0;34m\u001b[0m\u001b[0;34m\u001b[0m\u001b[0m\n\u001b[0m\u001b[1;32m    812\u001b[0m \u001b[0;34m\u001b[0m\u001b[0m\n\u001b[1;32m    813\u001b[0m     \u001b[0;32mdef\u001b[0m \u001b[0mclose\u001b[0m\u001b[0;34m(\u001b[0m\u001b[0mself\u001b[0m\u001b[0;34m)\u001b[0m\u001b[0;34m:\u001b[0m\u001b[0;34m\u001b[0m\u001b[0;34m\u001b[0m\u001b[0m\n",
            "\u001b[0;32m/usr/local/lib/python3.7/dist-packages/pandas/io/parsers/readers.py\u001b[0m in \u001b[0;36m_make_engine\u001b[0;34m(self, engine)\u001b[0m\n\u001b[1;32m   1038\u001b[0m             )\n\u001b[1;32m   1039\u001b[0m         \u001b[0;31m# error: Too many arguments for \"ParserBase\"\u001b[0m\u001b[0;34m\u001b[0m\u001b[0;34m\u001b[0m\u001b[0;34m\u001b[0m\u001b[0m\n\u001b[0;32m-> 1040\u001b[0;31m         \u001b[0;32mreturn\u001b[0m \u001b[0mmapping\u001b[0m\u001b[0;34m[\u001b[0m\u001b[0mengine\u001b[0m\u001b[0;34m]\u001b[0m\u001b[0;34m(\u001b[0m\u001b[0mself\u001b[0m\u001b[0;34m.\u001b[0m\u001b[0mf\u001b[0m\u001b[0;34m,\u001b[0m \u001b[0;34m**\u001b[0m\u001b[0mself\u001b[0m\u001b[0;34m.\u001b[0m\u001b[0moptions\u001b[0m\u001b[0;34m)\u001b[0m  \u001b[0;31m# type: ignore[call-arg]\u001b[0m\u001b[0;34m\u001b[0m\u001b[0;34m\u001b[0m\u001b[0m\n\u001b[0m\u001b[1;32m   1041\u001b[0m \u001b[0;34m\u001b[0m\u001b[0m\n\u001b[1;32m   1042\u001b[0m     \u001b[0;32mdef\u001b[0m \u001b[0m_failover_to_python\u001b[0m\u001b[0;34m(\u001b[0m\u001b[0mself\u001b[0m\u001b[0;34m)\u001b[0m\u001b[0;34m:\u001b[0m\u001b[0;34m\u001b[0m\u001b[0;34m\u001b[0m\u001b[0m\n",
            "\u001b[0;32m/usr/local/lib/python3.7/dist-packages/pandas/io/parsers/c_parser_wrapper.py\u001b[0m in \u001b[0;36m__init__\u001b[0;34m(self, src, **kwds)\u001b[0m\n\u001b[1;32m     49\u001b[0m \u001b[0;34m\u001b[0m\u001b[0m\n\u001b[1;32m     50\u001b[0m         \u001b[0;31m# open handles\u001b[0m\u001b[0;34m\u001b[0m\u001b[0;34m\u001b[0m\u001b[0;34m\u001b[0m\u001b[0m\n\u001b[0;32m---> 51\u001b[0;31m         \u001b[0mself\u001b[0m\u001b[0;34m.\u001b[0m\u001b[0m_open_handles\u001b[0m\u001b[0;34m(\u001b[0m\u001b[0msrc\u001b[0m\u001b[0;34m,\u001b[0m \u001b[0mkwds\u001b[0m\u001b[0;34m)\u001b[0m\u001b[0;34m\u001b[0m\u001b[0;34m\u001b[0m\u001b[0m\n\u001b[0m\u001b[1;32m     52\u001b[0m         \u001b[0;32massert\u001b[0m \u001b[0mself\u001b[0m\u001b[0;34m.\u001b[0m\u001b[0mhandles\u001b[0m \u001b[0;32mis\u001b[0m \u001b[0;32mnot\u001b[0m \u001b[0;32mNone\u001b[0m\u001b[0;34m\u001b[0m\u001b[0;34m\u001b[0m\u001b[0m\n\u001b[1;32m     53\u001b[0m \u001b[0;34m\u001b[0m\u001b[0m\n",
            "\u001b[0;32m/usr/local/lib/python3.7/dist-packages/pandas/io/parsers/base_parser.py\u001b[0m in \u001b[0;36m_open_handles\u001b[0;34m(self, src, kwds)\u001b[0m\n\u001b[1;32m    227\u001b[0m             \u001b[0mmemory_map\u001b[0m\u001b[0;34m=\u001b[0m\u001b[0mkwds\u001b[0m\u001b[0;34m.\u001b[0m\u001b[0mget\u001b[0m\u001b[0;34m(\u001b[0m\u001b[0;34m\"memory_map\"\u001b[0m\u001b[0;34m,\u001b[0m \u001b[0;32mFalse\u001b[0m\u001b[0;34m)\u001b[0m\u001b[0;34m,\u001b[0m\u001b[0;34m\u001b[0m\u001b[0;34m\u001b[0m\u001b[0m\n\u001b[1;32m    228\u001b[0m             \u001b[0mstorage_options\u001b[0m\u001b[0;34m=\u001b[0m\u001b[0mkwds\u001b[0m\u001b[0;34m.\u001b[0m\u001b[0mget\u001b[0m\u001b[0;34m(\u001b[0m\u001b[0;34m\"storage_options\"\u001b[0m\u001b[0;34m,\u001b[0m \u001b[0;32mNone\u001b[0m\u001b[0;34m)\u001b[0m\u001b[0;34m,\u001b[0m\u001b[0;34m\u001b[0m\u001b[0;34m\u001b[0m\u001b[0m\n\u001b[0;32m--> 229\u001b[0;31m             \u001b[0merrors\u001b[0m\u001b[0;34m=\u001b[0m\u001b[0mkwds\u001b[0m\u001b[0;34m.\u001b[0m\u001b[0mget\u001b[0m\u001b[0;34m(\u001b[0m\u001b[0;34m\"encoding_errors\"\u001b[0m\u001b[0;34m,\u001b[0m \u001b[0;34m\"strict\"\u001b[0m\u001b[0;34m)\u001b[0m\u001b[0;34m,\u001b[0m\u001b[0;34m\u001b[0m\u001b[0;34m\u001b[0m\u001b[0m\n\u001b[0m\u001b[1;32m    230\u001b[0m         )\n\u001b[1;32m    231\u001b[0m \u001b[0;34m\u001b[0m\u001b[0m\n",
            "\u001b[0;32m/usr/local/lib/python3.7/dist-packages/pandas/io/common.py\u001b[0m in \u001b[0;36mget_handle\u001b[0;34m(path_or_buf, mode, encoding, compression, memory_map, is_text, errors, storage_options)\u001b[0m\n\u001b[1;32m    705\u001b[0m                 \u001b[0mencoding\u001b[0m\u001b[0;34m=\u001b[0m\u001b[0mioargs\u001b[0m\u001b[0;34m.\u001b[0m\u001b[0mencoding\u001b[0m\u001b[0;34m,\u001b[0m\u001b[0;34m\u001b[0m\u001b[0;34m\u001b[0m\u001b[0m\n\u001b[1;32m    706\u001b[0m                 \u001b[0merrors\u001b[0m\u001b[0;34m=\u001b[0m\u001b[0merrors\u001b[0m\u001b[0;34m,\u001b[0m\u001b[0;34m\u001b[0m\u001b[0;34m\u001b[0m\u001b[0m\n\u001b[0;32m--> 707\u001b[0;31m                 \u001b[0mnewline\u001b[0m\u001b[0;34m=\u001b[0m\u001b[0;34m\"\"\u001b[0m\u001b[0;34m,\u001b[0m\u001b[0;34m\u001b[0m\u001b[0;34m\u001b[0m\u001b[0m\n\u001b[0m\u001b[1;32m    708\u001b[0m             )\n\u001b[1;32m    709\u001b[0m         \u001b[0;32melse\u001b[0m\u001b[0;34m:\u001b[0m\u001b[0;34m\u001b[0m\u001b[0;34m\u001b[0m\u001b[0m\n",
            "\u001b[0;31mFileNotFoundError\u001b[0m: [Errno 2] No such file or directory: '/kaggle/input/imdb-extensive-dataset/IMDb ratings.csv'"
          ]
        }
      ],
      "source": [
        "imdb_ratings=pd.read_csv('/kaggle/input/imdb-extensive-dataset/IMDb ratings.csv',usecols=['weighted_average_vote'])\n",
        "imdb_titles=pd.read_csv('/kaggle/input/imdb-extensive-dataset/IMDb movies.csv', usecols=['title','year','genre'])\n",
        "ratings = pd.DataFrame({'Title':imdb_titles.title,\n",
        "                    'Release Year':imdb_titles.year,\n",
        "                    'Rating': imdb_ratings.weighted_average_vote,\n",
        "                    'Genre':imdb_titles.genre})\n",
        "ratings.drop_duplicates(subset=['Title','Release Year','Rating'], inplace=True)\n",
        "ratings.shape"
      ]
    },
    {
      "cell_type": "markdown",
      "metadata": {
        "papermill": {
          "duration": 0.074846,
          "end_time": "2021-02-25T06:30:00.968361",
          "exception": false,
          "start_time": "2021-02-25T06:30:00.893515",
          "status": "completed"
        },
        "tags": [],
        "id": "g8AR5xupz8eH"
      },
      "source": [
        "Performing inner join on the ratings dataset and netflix dataset to get the content that has both ratings on IMDB and are available on Netflix."
      ]
    },
    {
      "cell_type": "code",
      "execution_count": null,
      "metadata": {
        "papermill": {
          "duration": 0.172954,
          "end_time": "2021-02-25T06:30:01.214999",
          "exception": false,
          "start_time": "2021-02-25T06:30:01.042045",
          "status": "completed"
        },
        "tags": [],
        "id": "TjB2MTSgz8eI"
      },
      "outputs": [],
      "source": [
        "ratings.dropna()\n",
        "joint_data=ratings.merge(netflix_overall,left_on='Title',right_on='title',how='inner')\n",
        "joint_data=joint_data.sort_values(by='Rating', ascending=False)"
      ]
    },
    {
      "cell_type": "markdown",
      "metadata": {
        "papermill": {
          "duration": 0.073369,
          "end_time": "2021-02-25T06:30:01.359535",
          "exception": false,
          "start_time": "2021-02-25T06:30:01.286166",
          "status": "completed"
        },
        "tags": [],
        "id": "GyT-gcLPz8eI"
      },
      "source": [
        "Top rated 10 movies on Netflix are:"
      ]
    },
    {
      "cell_type": "code",
      "execution_count": null,
      "metadata": {
        "papermill": {
          "duration": 3.446911,
          "end_time": "2021-02-25T06:30:04.880986",
          "exception": false,
          "start_time": "2021-02-25T06:30:01.434075",
          "status": "completed"
        },
        "tags": [],
        "id": "VNrMLsVEz8eI"
      },
      "outputs": [],
      "source": [
        "import plotly.express as px\n",
        "top_rated=joint_data[0:10]\n",
        "fig =px.sunburst(\n",
        "    top_rated,\n",
        "    path=['title','country'],\n",
        "    values='Rating',\n",
        "    color='Rating')\n",
        "fig.show()"
      ]
    },
    {
      "cell_type": "markdown",
      "metadata": {
        "papermill": {
          "duration": 0.073704,
          "end_time": "2021-02-25T06:30:05.029057",
          "exception": false,
          "start_time": "2021-02-25T06:30:04.955353",
          "status": "completed"
        },
        "tags": [],
        "id": "5eap0tNkz8eJ"
      },
      "source": [
        "Countries with highest rated content."
      ]
    },
    {
      "cell_type": "code",
      "execution_count": null,
      "metadata": {
        "papermill": {
          "duration": 0.092443,
          "end_time": "2021-02-25T06:30:05.193649",
          "exception": false,
          "start_time": "2021-02-25T06:30:05.101206",
          "status": "completed"
        },
        "tags": [],
        "id": "jmpXitTjz8eJ"
      },
      "outputs": [],
      "source": [
        "country_count=joint_data['country'].value_counts().sort_values(ascending=False)\n",
        "country_count=pd.DataFrame(country_count)\n",
        "topcountries=country_count[0:11]\n",
        "topcountries"
      ]
    },
    {
      "cell_type": "code",
      "execution_count": null,
      "metadata": {
        "papermill": {
          "duration": 0.465981,
          "end_time": "2021-02-25T06:30:05.733038",
          "exception": false,
          "start_time": "2021-02-25T06:30:05.267057",
          "status": "completed"
        },
        "tags": [],
        "id": "JhfDmU9Uz8eJ"
      },
      "outputs": [],
      "source": [
        "import plotly.express as px\n",
        "data = dict(\n",
        "    number=[1063,619,135,60,44,41,40,40,38,35],\n",
        "    country=[\"United States\", \"India\", \"United Kingdom\", \"Canada\", \"Spain\",'Turkey','Philippines','France','South Korea','Australia'])\n",
        "fig = px.funnel(data, x='number', y='country')\n",
        "fig.show()"
      ]
    },
    {
      "cell_type": "markdown",
      "metadata": {
        "papermill": {
          "duration": 0.073791,
          "end_time": "2021-02-25T06:30:05.880968",
          "exception": false,
          "start_time": "2021-02-25T06:30:05.807177",
          "status": "completed"
        },
        "tags": [],
        "id": "XrjxWFh_z8eK"
      },
      "source": [
        "# Year wise analysis"
      ]
    },
    {
      "cell_type": "code",
      "execution_count": null,
      "metadata": {
        "papermill": {
          "duration": 0.481843,
          "end_time": "2021-02-25T06:30:06.437250",
          "exception": false,
          "start_time": "2021-02-25T06:30:05.955407",
          "status": "completed"
        },
        "tags": [],
        "id": "nciQg81iz8eK"
      },
      "outputs": [],
      "source": [
        "plt.figure(figsize=(12,10))\n",
        "sns.set(style=\"darkgrid\")\n",
        "ax = sns.countplot(y=\"release_year\", data=netflix_movies, palette=\"Set2\", order=netflix_movies['release_year'].value_counts().index[0:15])"
      ]
    },
    {
      "cell_type": "markdown",
      "metadata": {
        "papermill": {
          "duration": 0.076723,
          "end_time": "2021-02-25T06:30:06.588236",
          "exception": false,
          "start_time": "2021-02-25T06:30:06.511513",
          "status": "completed"
        },
        "tags": [],
        "id": "5ao7rwdPz8eK"
      },
      "source": [
        "So, 2017 was the year when most of the movies were released."
      ]
    },
    {
      "cell_type": "code",
      "execution_count": null,
      "metadata": {
        "_kg_hide-input": true,
        "_kg_hide-output": true,
        "papermill": {
          "duration": 0.122379,
          "end_time": "2021-02-25T06:30:06.786166",
          "exception": false,
          "start_time": "2021-02-25T06:30:06.663787",
          "status": "completed"
        },
        "tags": [],
        "id": "QXGzV3z6z8eL"
      },
      "outputs": [],
      "source": [
        "countries={}\n",
        "netflix_movies['country']=netflix_movies['country'].fillna('Unknown')\n",
        "cou=list(netflix_movies['country'])\n",
        "for i in cou:\n",
        "    #print(i)\n",
        "    i=list(i.split(','))\n",
        "    if len(i)==1:\n",
        "        if i in list(countries.keys()):\n",
        "            countries[i]+=1\n",
        "        else:\n",
        "            countries[i[0]]=1\n",
        "    else:\n",
        "        for j in i:\n",
        "            if j in list(countries.keys()):\n",
        "                countries[j]+=1\n",
        "            else:\n",
        "                countries[j]=1"
      ]
    },
    {
      "cell_type": "code",
      "execution_count": null,
      "metadata": {
        "_kg_hide-input": true,
        "_kg_hide-output": true,
        "papermill": {
          "duration": 0.088951,
          "end_time": "2021-02-25T06:30:06.950351",
          "exception": false,
          "start_time": "2021-02-25T06:30:06.861400",
          "status": "completed"
        },
        "tags": [],
        "id": "3ZTjSmIcz8eL"
      },
      "outputs": [],
      "source": [
        "countries_fin={}\n",
        "for country,no in countries.items():\n",
        "    country=country.replace(' ','')\n",
        "    if country in list(countries_fin.keys()):\n",
        "        countries_fin[country]+=no\n",
        "    else:\n",
        "        countries_fin[country]=no\n",
        "        \n",
        "countries_fin={k: v for k, v in sorted(countries_fin.items(), key=lambda item: item[1], reverse= True)}\n"
      ]
    },
    {
      "cell_type": "markdown",
      "metadata": {
        "papermill": {
          "duration": 0.076366,
          "end_time": "2021-02-25T06:30:07.102328",
          "exception": false,
          "start_time": "2021-02-25T06:30:07.025962",
          "status": "completed"
        },
        "tags": [],
        "id": "aPjYwTijz8eL"
      },
      "source": [
        "# TOP 10 MOVIE CONTENT CREATING COUNTRIES"
      ]
    },
    {
      "cell_type": "code",
      "execution_count": null,
      "metadata": {
        "_kg_hide-input": true,
        "_kg_hide-output": true,
        "papermill": {
          "duration": 0.357813,
          "end_time": "2021-02-25T06:30:07.538356",
          "exception": false,
          "start_time": "2021-02-25T06:30:07.180543",
          "status": "completed"
        },
        "tags": [],
        "id": "nN6bFc2zz8eM"
      },
      "outputs": [],
      "source": [
        "plt.figure(figsize=(8,8))\n",
        "ax = sns.barplot(x=list(countries_fin.keys())[0:10],y=list(countries_fin.values())[0:10])\n",
        "ax.set_xticklabels(list(countries_fin.keys())[0:10],rotation = 90)\n"
      ]
    },
    {
      "cell_type": "markdown",
      "metadata": {
        "papermill": {
          "duration": 0.077104,
          "end_time": "2021-02-25T06:30:07.691900",
          "exception": false,
          "start_time": "2021-02-25T06:30:07.614796",
          "status": "completed"
        },
        "tags": [],
        "id": "UuRfVSFDz8eM"
      },
      "source": [
        "# Analysis of duration of movies"
      ]
    },
    {
      "cell_type": "code",
      "execution_count": null,
      "metadata": {
        "_kg_hide-input": true,
        "_kg_hide-output": true,
        "papermill": {
          "duration": 0.104963,
          "end_time": "2021-02-25T06:30:07.874601",
          "exception": false,
          "start_time": "2021-02-25T06:30:07.769638",
          "status": "completed"
        },
        "tags": [],
        "id": "vdyNQ8hjz8eM"
      },
      "outputs": [],
      "source": [
        "netflix_movies['duration']=netflix_movies['duration'].str.replace(' min','')\n",
        "netflix_movies['duration']=netflix_movies['duration'].astype(str).astype(int)\n",
        "netflix_movies['duration']"
      ]
    },
    {
      "cell_type": "code",
      "execution_count": null,
      "metadata": {
        "papermill": {
          "duration": 0.391059,
          "end_time": "2021-02-25T06:30:08.344543",
          "exception": false,
          "start_time": "2021-02-25T06:30:07.953484",
          "status": "completed"
        },
        "tags": [],
        "id": "Qt3jeXxSz8eN"
      },
      "outputs": [],
      "source": [
        "sns.set(style=\"darkgrid\")\n",
        "sns.kdeplot(data=netflix_movies['duration'], shade=True)"
      ]
    },
    {
      "cell_type": "markdown",
      "metadata": {
        "papermill": {
          "duration": 0.079518,
          "end_time": "2021-02-25T06:30:08.504644",
          "exception": false,
          "start_time": "2021-02-25T06:30:08.425126",
          "status": "completed"
        },
        "tags": [],
        "id": "OBhXdvvDz8eN"
      },
      "source": [
        "So, a good amount of movies on Netflix are among the duration of 75-120 mins. It is acceptable considering the fact that a fair amount of the audience cannot watch a 3 hour movie in one sitting. Can you? :p"
      ]
    },
    {
      "cell_type": "code",
      "execution_count": null,
      "metadata": {
        "_kg_hide-input": true,
        "papermill": {
          "duration": 0.103304,
          "end_time": "2021-02-25T06:30:08.688301",
          "exception": false,
          "start_time": "2021-02-25T06:30:08.584997",
          "status": "completed"
        },
        "tags": [],
        "id": "R4G6WJX1z8eN"
      },
      "outputs": [],
      "source": [
        "from collections import Counter\n",
        "\n",
        "genres=list(netflix_movies['listed_in'])\n",
        "gen=[]\n",
        "\n",
        "for i in genres:\n",
        "    i=list(i.split(','))\n",
        "    for j in i:\n",
        "        gen.append(j.replace(' ',\"\"))\n",
        "g=Counter(gen)"
      ]
    },
    {
      "cell_type": "markdown",
      "metadata": {
        "papermill": {
          "duration": 0.080166,
          "end_time": "2021-02-25T06:30:08.850066",
          "exception": false,
          "start_time": "2021-02-25T06:30:08.769900",
          "status": "completed"
        },
        "tags": [],
        "id": "zUE3nKPcz8eO"
      },
      "source": [
        "# WordCloud for Genres."
      ]
    },
    {
      "cell_type": "code",
      "execution_count": null,
      "metadata": {
        "papermill": {
          "duration": 1.35201,
          "end_time": "2021-02-25T06:30:10.284395",
          "exception": false,
          "start_time": "2021-02-25T06:30:08.932385",
          "status": "completed"
        },
        "tags": [],
        "id": "l7KrzZgsz8eO"
      },
      "outputs": [],
      "source": [
        "from wordcloud import WordCloud, STOPWORDS, ImageColorGenerator\n",
        "from PIL import Image\n",
        "\n",
        "text = list(set(gen))\n",
        "plt.rcParams['figure.figsize'] = (13, 13)\n",
        "\n",
        "#assigning shape to the word cloud\n",
        "mask = np.array(Image.open('../input/masks/star.png'))\n",
        "wordcloud = WordCloud(max_words=1000000,background_color=\"white\",mask=mask).generate(str(text))\n",
        "\n",
        "plt.imshow(wordcloud,interpolation=\"bilinear\")\n",
        "plt.axis(\"off\")\n",
        "plt.show()"
      ]
    },
    {
      "cell_type": "markdown",
      "metadata": {
        "papermill": {
          "duration": 0.082708,
          "end_time": "2021-02-25T06:30:10.451358",
          "exception": false,
          "start_time": "2021-02-25T06:30:10.368650",
          "status": "completed"
        },
        "tags": [],
        "id": "SUpOlGfKz8eO"
      },
      "source": [
        "# Lollipop plot of Genres vs their count on Netflix"
      ]
    },
    {
      "cell_type": "code",
      "execution_count": null,
      "metadata": {
        "papermill": {
          "duration": 0.656359,
          "end_time": "2021-02-25T06:30:11.191421",
          "exception": false,
          "start_time": "2021-02-25T06:30:10.535062",
          "status": "completed"
        },
        "tags": [],
        "id": "ohSDHcMqz8eO"
      },
      "outputs": [],
      "source": [
        "g={k: v for k, v in sorted(g.items(), key=lambda item: item[1], reverse= True)}\n",
        "\n",
        "\n",
        "fig, ax = plt.subplots()\n",
        "\n",
        "fig = plt.figure(figsize = (10, 10))\n",
        "x=list(g.keys())\n",
        "y=list(g.values())\n",
        "ax.vlines(x, ymin=0, ymax=y, color='green')\n",
        "ax.plot(x,y, \"o\", color='maroon')\n",
        "ax.set_xticklabels(x, rotation = 90)\n",
        "ax.set_ylabel(\"Count of movies\")\n",
        "# set a title\n",
        "ax.set_title(\"Genres\");"
      ]
    },
    {
      "cell_type": "markdown",
      "metadata": {
        "papermill": {
          "duration": 0.084998,
          "end_time": "2021-02-25T06:30:11.361515",
          "exception": false,
          "start_time": "2021-02-25T06:30:11.276517",
          "status": "completed"
        },
        "tags": [],
        "id": "jZXTtF_Fz8eP"
      },
      "source": [
        "Therefore, it is clear that international movies, dramas and comedies are the top three genres that have the highest amount of content on Netflix."
      ]
    },
    {
      "cell_type": "markdown",
      "metadata": {
        "papermill": {
          "duration": 0.084417,
          "end_time": "2021-02-25T06:30:11.530870",
          "exception": false,
          "start_time": "2021-02-25T06:30:11.446453",
          "status": "completed"
        },
        "tags": [],
        "id": "SGdlS8I4z8eP"
      },
      "source": [
        "# Analysis of TV SERIES on Netflix"
      ]
    },
    {
      "cell_type": "code",
      "execution_count": null,
      "metadata": {
        "_kg_hide-input": true,
        "_kg_hide-output": true,
        "papermill": {
          "duration": 0.112221,
          "end_time": "2021-02-25T06:30:11.728190",
          "exception": false,
          "start_time": "2021-02-25T06:30:11.615969",
          "status": "completed"
        },
        "tags": [],
        "id": "Wq9DtSE3z8eP"
      },
      "outputs": [],
      "source": [
        "countries1={}\n",
        "netflix_shows['country']=netflix_shows['country'].fillna('Unknown')\n",
        "cou1=list(netflix_shows['country'])\n",
        "for i in cou1:\n",
        "    #print(i)\n",
        "    i=list(i.split(','))\n",
        "    if len(i)==1:\n",
        "        if i in list(countries1.keys()):\n",
        "            countries1[i]+=1\n",
        "        else:\n",
        "            countries1[i[0]]=1\n",
        "    else:\n",
        "        for j in i:\n",
        "            if j in list(countries1.keys()):\n",
        "                countries1[j]+=1\n",
        "            else:\n",
        "                countries1[j]=1"
      ]
    },
    {
      "cell_type": "code",
      "execution_count": null,
      "metadata": {
        "_kg_hide-input": true,
        "_kg_hide-output": true,
        "papermill": {
          "duration": 0.097673,
          "end_time": "2021-02-25T06:30:11.912218",
          "exception": false,
          "start_time": "2021-02-25T06:30:11.814545",
          "status": "completed"
        },
        "tags": [],
        "id": "lg2FFa_Ez8eP"
      },
      "outputs": [],
      "source": [
        "countries_fin1={}\n",
        "for country,no in countries1.items():\n",
        "    country=country.replace(' ','')\n",
        "    if country in list(countries_fin1.keys()):\n",
        "        countries_fin1[country]+=no\n",
        "    else:\n",
        "        countries_fin1[country]=no\n",
        "        \n",
        "countries_fin1={k: v for k, v in sorted(countries_fin1.items(), key=lambda item: item[1], reverse= True)}\n"
      ]
    },
    {
      "cell_type": "markdown",
      "metadata": {
        "papermill": {
          "duration": 0.086108,
          "end_time": "2021-02-25T06:30:12.088851",
          "exception": false,
          "start_time": "2021-02-25T06:30:12.002743",
          "status": "completed"
        },
        "tags": [],
        "id": "DDXxxFQmz8eQ"
      },
      "source": [
        "# Most content creating countries"
      ]
    },
    {
      "cell_type": "code",
      "execution_count": null,
      "metadata": {
        "papermill": {
          "duration": 1.305106,
          "end_time": "2021-02-25T06:30:13.485526",
          "exception": false,
          "start_time": "2021-02-25T06:30:12.180420",
          "status": "completed"
        },
        "tags": [],
        "id": "4QX2Rsnwz8eQ"
      },
      "outputs": [],
      "source": [
        "# Set the width and height of the figure\n",
        "plt.figure(figsize=(15,15))\n",
        "\n",
        "# Add title\n",
        "plt.title(\"Content creating countries\")\n",
        "\n",
        "# Bar chart showing average arrival delay for Spirit Airlines flights by month\n",
        "sns.barplot(y=list(countries_fin1.keys()), x=list(countries_fin1.values()))\n",
        "\n",
        "# Add label for vertical axis\n",
        "plt.ylabel(\"Arrival delay (in minutes)\")"
      ]
    },
    {
      "cell_type": "markdown",
      "metadata": {
        "papermill": {
          "duration": 0.08838,
          "end_time": "2021-02-25T06:30:13.672995",
          "exception": false,
          "start_time": "2021-02-25T06:30:13.584615",
          "status": "completed"
        },
        "tags": [],
        "id": "BtE3H2ohz8eQ"
      },
      "source": [
        "Naturally, United States has the most content that is created on netflix in the tv series category."
      ]
    },
    {
      "cell_type": "code",
      "execution_count": null,
      "metadata": {
        "_kg_hide-input": true,
        "_kg_hide-output": true,
        "papermill": {
          "duration": 0.110229,
          "end_time": "2021-02-25T06:30:13.875038",
          "exception": false,
          "start_time": "2021-02-25T06:30:13.764809",
          "status": "completed"
        },
        "tags": [],
        "id": "HNjVlS5Fz8eR"
      },
      "outputs": [],
      "source": [
        "features=['title','duration']\n",
        "durations= netflix_shows[features]\n",
        "\n",
        "durations['no_of_seasons']=durations['duration'].str.replace(' Season','')\n",
        "\n",
        "#durations['no_of_seasons']=durations['no_of_seasons'].astype(str).astype(int)\n",
        "durations['no_of_seasons']=durations['no_of_seasons'].str.replace('s','')"
      ]
    },
    {
      "cell_type": "code",
      "execution_count": null,
      "metadata": {
        "_kg_hide-input": true,
        "_kg_hide-output": true,
        "papermill": {
          "duration": 0.10696,
          "end_time": "2021-02-25T06:30:14.073856",
          "exception": false,
          "start_time": "2021-02-25T06:30:13.966896",
          "status": "completed"
        },
        "tags": [],
        "id": "cBdmqv9tz8eS"
      },
      "outputs": [],
      "source": [
        "durations['no_of_seasons']=durations['no_of_seasons'].astype(str).astype(int)\n"
      ]
    },
    {
      "cell_type": "markdown",
      "metadata": {
        "papermill": {
          "duration": 0.088687,
          "end_time": "2021-02-25T06:30:14.253507",
          "exception": false,
          "start_time": "2021-02-25T06:30:14.164820",
          "status": "completed"
        },
        "tags": [],
        "id": "k6_-rXD6z8eS"
      },
      "source": [
        "# TV shows with largest number of seasons"
      ]
    },
    {
      "cell_type": "code",
      "execution_count": null,
      "metadata": {
        "_kg_hide-input": true,
        "_kg_hide-output": true,
        "papermill": {
          "duration": 0.10144,
          "end_time": "2021-02-25T06:30:14.444293",
          "exception": false,
          "start_time": "2021-02-25T06:30:14.342853",
          "status": "completed"
        },
        "tags": [],
        "id": "WeI3waWgz8eT"
      },
      "outputs": [],
      "source": [
        "t=['title','no_of_seasons']\n",
        "top=durations[t]\n",
        "\n",
        "top=top.sort_values(by='no_of_seasons', ascending=False)"
      ]
    },
    {
      "cell_type": "code",
      "execution_count": null,
      "metadata": {
        "papermill": {
          "duration": 0.589975,
          "end_time": "2021-02-25T06:30:15.124975",
          "exception": false,
          "start_time": "2021-02-25T06:30:14.535000",
          "status": "completed"
        },
        "tags": [],
        "id": "VlaJp1Ufz8eT"
      },
      "outputs": [],
      "source": [
        "top20=top[0:20]\n",
        "top20.plot(kind='bar',x='title',y='no_of_seasons', color='red')"
      ]
    },
    {
      "cell_type": "markdown",
      "metadata": {
        "papermill": {
          "duration": 0.091447,
          "end_time": "2021-02-25T06:30:15.307721",
          "exception": false,
          "start_time": "2021-02-25T06:30:15.216274",
          "status": "completed"
        },
        "tags": [],
        "id": "4HS5ZM1Cz8eT"
      },
      "source": [
        "Thus, NCIS, Grey's Anatomy and Supernatural are amongst the tv series that have highest number of seasons."
      ]
    },
    {
      "cell_type": "markdown",
      "metadata": {
        "papermill": {
          "duration": 0.093978,
          "end_time": "2021-02-25T06:30:15.493707",
          "exception": false,
          "start_time": "2021-02-25T06:30:15.399729",
          "status": "completed"
        },
        "tags": [],
        "id": "Rjo3K-i6z8eU"
      },
      "source": [
        "# Lowest number of seasons."
      ]
    },
    {
      "cell_type": "code",
      "execution_count": null,
      "metadata": {
        "papermill": {
          "duration": 0.257679,
          "end_time": "2021-02-25T06:30:15.843434",
          "exception": false,
          "start_time": "2021-02-25T06:30:15.585755",
          "status": "completed"
        },
        "tags": [],
        "id": "xGilpmWTz8eU"
      },
      "outputs": [],
      "source": [
        "bottom=top.sort_values(by='no_of_seasons')\n",
        "bottom=bottom[20:50]\n",
        "\n",
        "import plotly.graph_objects as go\n",
        "\n",
        "fig = go.Figure(data=[go.Table(header=dict(values=['Title', 'No of seasons']),\n",
        "                 cells=dict(values=[bottom['title'],bottom['no_of_seasons']],fill_color='lavender'))\n",
        "                     ])\n",
        "fig.show()"
      ]
    },
    {
      "cell_type": "markdown",
      "metadata": {
        "papermill": {
          "duration": 0.093526,
          "end_time": "2021-02-25T06:30:16.030288",
          "exception": false,
          "start_time": "2021-02-25T06:30:15.936762",
          "status": "completed"
        },
        "tags": [],
        "id": "YEE3vbgcz8eU"
      },
      "source": [
        "These are some binge-worthy shows that are short and have only one season."
      ]
    },
    {
      "cell_type": "code",
      "execution_count": null,
      "metadata": {
        "_kg_hide-input": true,
        "papermill": {
          "duration": 0.112881,
          "end_time": "2021-02-25T06:30:16.237593",
          "exception": false,
          "start_time": "2021-02-25T06:30:16.124712",
          "status": "completed"
        },
        "tags": [],
        "id": "YBHkMx6yz8eU"
      },
      "outputs": [],
      "source": [
        "genres=list(netflix_shows['listed_in'])\n",
        "gen=[]\n",
        "\n",
        "for i in genres:\n",
        "    i=list(i.split(','))\n",
        "    for j in i:\n",
        "        gen.append(j.replace(' ',\"\"))\n",
        "g=Counter(gen)"
      ]
    },
    {
      "cell_type": "markdown",
      "metadata": {
        "papermill": {
          "duration": 0.091452,
          "end_time": "2021-02-25T06:30:16.420835",
          "exception": false,
          "start_time": "2021-02-25T06:30:16.329383",
          "status": "completed"
        },
        "tags": [],
        "id": "fg62Mihvz8eV"
      },
      "source": [
        "# Word Cloud for Genres"
      ]
    },
    {
      "cell_type": "markdown",
      "metadata": {
        "papermill": {
          "duration": 0.091504,
          "end_time": "2021-02-25T06:30:16.605349",
          "exception": false,
          "start_time": "2021-02-25T06:30:16.513845",
          "status": "completed"
        },
        "tags": [],
        "id": "krq3F9izz8eV"
      },
      "source": [
        "A word cloud is an image made of words that together resemble a cloudy shape."
      ]
    },
    {
      "cell_type": "code",
      "execution_count": null,
      "metadata": {
        "papermill": {
          "duration": 8.387621,
          "end_time": "2021-02-25T06:30:25.084999",
          "exception": false,
          "start_time": "2021-02-25T06:30:16.697378",
          "status": "completed"
        },
        "tags": [],
        "id": "ZgM2hdOjz8eV"
      },
      "outputs": [],
      "source": [
        "from wordcloud import WordCloud, STOPWORDS, ImageColorGenerator\n",
        "\n",
        "text = list(set(gen))\n",
        "\n",
        "mask=np.array(Image.open('../input/masks/upvote.png'))\n",
        "wordcloud = WordCloud(max_words=1000000,background_color=\"black\",mask=mask).generate(str(text))\n",
        "plt.rcParams['figure.figsize'] = (13, 13)\n",
        "plt.imshow(wordcloud,interpolation=\"bilinear\")\n",
        "plt.axis(\"off\")\n",
        "plt.show()"
      ]
    },
    {
      "cell_type": "code",
      "execution_count": null,
      "metadata": {
        "papermill": {
          "duration": 0.108001,
          "end_time": "2021-02-25T06:30:25.290066",
          "exception": false,
          "start_time": "2021-02-25T06:30:25.182065",
          "status": "completed"
        },
        "tags": [],
        "id": "Y8x6BHdzz8eV"
      },
      "outputs": [],
      "source": [
        "us_series_data=netflix_shows[netflix_shows['country']=='United States']"
      ]
    },
    {
      "cell_type": "code",
      "execution_count": null,
      "metadata": {
        "papermill": {
          "duration": 0.105145,
          "end_time": "2021-02-25T06:30:25.491446",
          "exception": false,
          "start_time": "2021-02-25T06:30:25.386301",
          "status": "completed"
        },
        "tags": [],
        "id": "S74AkI4Mz8eW"
      },
      "outputs": [],
      "source": [
        "oldest_us_series=us_series_data.sort_values(by='release_year')[0:20]"
      ]
    },
    {
      "cell_type": "code",
      "execution_count": null,
      "metadata": {
        "papermill": {
          "duration": 0.258929,
          "end_time": "2021-02-25T06:30:25.846168",
          "exception": false,
          "start_time": "2021-02-25T06:30:25.587239",
          "status": "completed"
        },
        "tags": [],
        "id": "9M1tVSCUz8eW"
      },
      "outputs": [],
      "source": [
        "fig = go.Figure(data=[go.Table(header=dict(values=['Title', 'Release Year'],fill_color='paleturquoise'),\n",
        "                 cells=dict(values=[oldest_us_series['title'],oldest_us_series['release_year']],fill_color='pink'))\n",
        "                     ])\n",
        "fig.show()"
      ]
    },
    {
      "cell_type": "markdown",
      "metadata": {
        "papermill": {
          "duration": 0.09977,
          "end_time": "2021-02-25T06:30:26.045281",
          "exception": false,
          "start_time": "2021-02-25T06:30:25.945511",
          "status": "completed"
        },
        "tags": [],
        "id": "npHZTDRUz8eW"
      },
      "source": [
        "Above table shows the oldest US tv shows on Netflix."
      ]
    },
    {
      "cell_type": "code",
      "execution_count": null,
      "metadata": {
        "papermill": {
          "duration": 0.110156,
          "end_time": "2021-02-25T06:30:26.254810",
          "exception": false,
          "start_time": "2021-02-25T06:30:26.144654",
          "status": "completed"
        },
        "tags": [],
        "id": "T9-uItZsz8eW"
      },
      "outputs": [],
      "source": [
        "newest_us_series=us_series_data.sort_values(by='release_year', ascending=False)[0:50]"
      ]
    },
    {
      "cell_type": "code",
      "execution_count": null,
      "metadata": {
        "papermill": {
          "duration": 0.261166,
          "end_time": "2021-02-25T06:30:26.613012",
          "exception": false,
          "start_time": "2021-02-25T06:30:26.351846",
          "status": "completed"
        },
        "tags": [],
        "id": "DoYBiXskz8eX"
      },
      "outputs": [],
      "source": [
        "fig = go.Figure(data=[go.Table(header=dict(values=['Title', 'Release Year'],fill_color='yellow'),\n",
        "                 cells=dict(values=[newest_us_series['title'],newest_us_series['release_year']],fill_color='lavender'))\n",
        "                     ])\n",
        "fig.show()"
      ]
    },
    {
      "cell_type": "markdown",
      "metadata": {
        "papermill": {
          "duration": 0.098988,
          "end_time": "2021-02-25T06:30:26.810978",
          "exception": false,
          "start_time": "2021-02-25T06:30:26.711990",
          "status": "completed"
        },
        "tags": [],
        "id": "NQJqWSOpz8eX"
      },
      "source": [
        "The above are latest released US television shows!"
      ]
    },
    {
      "cell_type": "markdown",
      "metadata": {
        "papermill": {
          "duration": 0.098046,
          "end_time": "2021-02-25T06:30:27.008604",
          "exception": false,
          "start_time": "2021-02-25T06:30:26.910558",
          "status": "completed"
        },
        "tags": [],
        "id": "6m9ZQP50z8eX"
      },
      "source": [
        "# Content in France"
      ]
    },
    {
      "cell_type": "code",
      "execution_count": null,
      "metadata": {
        "papermill": {
          "duration": 0.723711,
          "end_time": "2021-02-25T06:30:27.832011",
          "exception": false,
          "start_time": "2021-02-25T06:30:27.108300",
          "status": "completed"
        },
        "tags": [],
        "id": "lw0IPEi3z8eX"
      },
      "outputs": [],
      "source": [
        "netflix_fr=netflix_overall[netflix_overall['country']=='France']\n",
        "nannef=netflix_fr.dropna()\n",
        "import plotly.express as px\n",
        "fig = px.treemap(nannef, path=['country','director'],\n",
        "                  color='director', hover_data=['director','title'],color_continuous_scale='Purples')\n",
        "fig.show()\n"
      ]
    },
    {
      "cell_type": "markdown",
      "metadata": {
        "papermill": {
          "duration": 0.098142,
          "end_time": "2021-02-25T06:30:28.030384",
          "exception": false,
          "start_time": "2021-02-25T06:30:27.932242",
          "status": "completed"
        },
        "tags": [],
        "id": "MF1qO-I0z8eY"
      },
      "source": [
        "It is very interesting to note that the content in France is very rational. There is no director in the data who has a large number of movies. In my opinion, it shows how different directors are given a chance to showcase their talents. What do you think?"
      ]
    },
    {
      "cell_type": "code",
      "execution_count": null,
      "metadata": {
        "papermill": {
          "duration": 0.111361,
          "end_time": "2021-02-25T06:30:28.242878",
          "exception": false,
          "start_time": "2021-02-25T06:30:28.131517",
          "status": "completed"
        },
        "tags": [],
        "id": "cmxiMWkIz8eY"
      },
      "outputs": [],
      "source": [
        "newest_fr_series=netflix_fr.sort_values(by='release_year', ascending=False)[0:20]"
      ]
    },
    {
      "cell_type": "code",
      "execution_count": null,
      "metadata": {
        "_kg_hide-output": true,
        "papermill": {
          "duration": 0.13427,
          "end_time": "2021-02-25T06:30:28.475419",
          "exception": false,
          "start_time": "2021-02-25T06:30:28.341149",
          "status": "completed"
        },
        "tags": [],
        "id": "pFA8qdxwz8eY"
      },
      "outputs": [],
      "source": [
        "newest_fr_series"
      ]
    },
    {
      "cell_type": "code",
      "execution_count": null,
      "metadata": {
        "papermill": {
          "duration": 0.262994,
          "end_time": "2021-02-25T06:30:28.840044",
          "exception": false,
          "start_time": "2021-02-25T06:30:28.577050",
          "status": "completed"
        },
        "tags": [],
        "id": "t-vWvMuoz8eY"
      },
      "outputs": [],
      "source": [
        "fig = go.Figure(data=[go.Table(header=dict(values=['Title', 'Release Year']),\n",
        "                 cells=dict(values=[newest_fr_series['title'],newest_fr_series['release_year']]))\n",
        "                     ])\n",
        "fig.show()"
      ]
    },
    {
      "cell_type": "markdown",
      "metadata": {
        "papermill": {
          "duration": 0.101767,
          "end_time": "2021-02-25T06:30:29.042482",
          "exception": false,
          "start_time": "2021-02-25T06:30:28.940715",
          "status": "completed"
        },
        "tags": [],
        "id": "yH0SMqEMz8eZ"
      },
      "source": [
        "# Top Duration"
      ]
    },
    {
      "cell_type": "code",
      "execution_count": null,
      "metadata": {
        "papermill": {
          "duration": 0.280179,
          "end_time": "2021-02-25T06:30:29.424384",
          "exception": false,
          "start_time": "2021-02-25T06:30:29.144205",
          "status": "completed"
        },
        "tags": [],
        "id": "jEQblrXXz8eZ"
      },
      "outputs": [],
      "source": [
        "topdirs=pd.value_counts(netflix_overall['duration'])\n",
        "fig = go.Figure([go.Bar(x=topdirs.index, y=topdirs.values , text=topdirs.values,marker_color='indianred')])\n",
        "fig.update_traces(texttemplate='%{text:.2s}', textposition='outside')\n",
        "fig.show()"
      ]
    },
    {
      "cell_type": "markdown",
      "metadata": {
        "papermill": {
          "duration": 0.101437,
          "end_time": "2021-02-25T06:30:29.628877",
          "exception": false,
          "start_time": "2021-02-25T06:30:29.527440",
          "status": "completed"
        },
        "tags": [],
        "id": "EsWQ5U6ez8eZ"
      },
      "source": [
        "It can be inferred that having one season is the most preferred duration."
      ]
    },
    {
      "cell_type": "markdown",
      "metadata": {
        "papermill": {
          "duration": 0.102699,
          "end_time": "2021-02-25T06:30:29.832649",
          "exception": false,
          "start_time": "2021-02-25T06:30:29.729950",
          "status": "completed"
        },
        "tags": [],
        "id": "WQZql5GMz8eZ"
      },
      "source": [
        "## A little interesting history\n",
        "\n",
        "Even though it may look like Netflix is fairly new, it has been around since 1997! \n",
        "\n",
        "Here's a picture of the older Netflix website when rentals costed only 50 cents each and the website had only about 900 titles.\n",
        "\n",
        "![](https://producthabits.com/wp-content/uploads/2018/04/Screenshot-2018-03-26-16.08.07.png)"
      ]
    },
    {
      "cell_type": "markdown",
      "metadata": {
        "papermill": {
          "duration": 0.1012,
          "end_time": "2021-02-25T06:30:30.036397",
          "exception": false,
          "start_time": "2021-02-25T06:30:29.935197",
          "status": "completed"
        },
        "tags": [],
        "id": "vKx6Vsktz8ea"
      },
      "source": [
        "# Recommendation System (Content Based)"
      ]
    },
    {
      "cell_type": "markdown",
      "metadata": {
        "papermill": {
          "duration": 0.104707,
          "end_time": "2021-02-25T06:30:30.244474",
          "exception": false,
          "start_time": "2021-02-25T06:30:30.139767",
          "status": "completed"
        },
        "tags": [],
        "id": "xM5QGUl8z8ea"
      },
      "source": [
        "<img src='data:image/png;base64,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' >"
      ]
    },
    {
      "cell_type": "markdown",
      "metadata": {
        "papermill": {
          "duration": 0.101048,
          "end_time": "2021-02-25T06:30:30.447649",
          "exception": false,
          "start_time": "2021-02-25T06:30:30.346601",
          "status": "completed"
        },
        "tags": [],
        "id": "ZRnYTl7oz8ea"
      },
      "source": [
        "The TF-IDF(Term Frequency-Inverse Document Frequency (TF-IDF) ) score is the frequency of a word occurring in a document, down-weighted by the number of documents in which it occurs. This is done to reduce the importance of words that occur frequently in plot overviews and therefore, their significance in computing the final similarity score."
      ]
    },
    {
      "cell_type": "code",
      "execution_count": null,
      "metadata": {
        "papermill": {
          "duration": 0.191776,
          "end_time": "2021-02-25T06:30:30.742003",
          "exception": false,
          "start_time": "2021-02-25T06:30:30.550227",
          "status": "completed"
        },
        "tags": [],
        "id": "5ze6Kgwkz8ea"
      },
      "outputs": [],
      "source": [
        "from sklearn.feature_extraction.text import TfidfVectorizer"
      ]
    },
    {
      "cell_type": "code",
      "execution_count": null,
      "metadata": {
        "papermill": {
          "duration": 0.463718,
          "end_time": "2021-02-25T06:30:31.308644",
          "exception": false,
          "start_time": "2021-02-25T06:30:30.844926",
          "status": "completed"
        },
        "tags": [],
        "id": "EI6bJpnpz8eb"
      },
      "outputs": [],
      "source": [
        "#removing stopwords\n",
        "tfidf = TfidfVectorizer(stop_words='english')\n",
        "\n",
        "#Replace NaN with an empty string\n",
        "netflix_overall['description'] = netflix_overall['description'].fillna('')\n",
        "\n",
        "#Construct the required TF-IDF matrix by fitting and transforming the data\n",
        "tfidf_matrix = tfidf.fit_transform(netflix_overall['description'])\n",
        "\n",
        "#Output the shape of tfidf_matrix\n",
        "tfidf_matrix.shape\n"
      ]
    },
    {
      "cell_type": "markdown",
      "metadata": {
        "papermill": {
          "duration": 0.101494,
          "end_time": "2021-02-25T06:30:31.512331",
          "exception": false,
          "start_time": "2021-02-25T06:30:31.410837",
          "status": "completed"
        },
        "tags": [],
        "id": "fMmpk0SBz8eb"
      },
      "source": [
        "There are about 16151 words described for the 6234 movies in this dataset."
      ]
    },
    {
      "cell_type": "markdown",
      "metadata": {
        "papermill": {
          "duration": 0.102594,
          "end_time": "2021-02-25T06:30:31.717186",
          "exception": false,
          "start_time": "2021-02-25T06:30:31.614592",
          "status": "completed"
        },
        "tags": [],
        "id": "SuFQ2FOqz8eb"
      },
      "source": [
        "Here, The Cosine similarity score is used since it is independent of magnitude and is relatively easy and fast to calculate.\n",
        "\n",
        "<img src='https://i.stack.imgur.com/36r1U.png'>"
      ]
    },
    {
      "cell_type": "code",
      "execution_count": null,
      "metadata": {
        "papermill": {
          "duration": 0.867555,
          "end_time": "2021-02-25T06:30:32.688388",
          "exception": false,
          "start_time": "2021-02-25T06:30:31.820833",
          "status": "completed"
        },
        "tags": [],
        "id": "852AyYSNz8eb"
      },
      "outputs": [],
      "source": [
        "# Import linear_kernel\n",
        "from sklearn.metrics.pairwise import linear_kernel\n",
        "\n",
        "# Compute the cosine similarity matrix\n",
        "cosine_sim = linear_kernel(tfidf_matrix, tfidf_matrix)"
      ]
    },
    {
      "cell_type": "code",
      "execution_count": null,
      "metadata": {
        "papermill": {
          "duration": 0.116667,
          "end_time": "2021-02-25T06:30:32.906876",
          "exception": false,
          "start_time": "2021-02-25T06:30:32.790209",
          "status": "completed"
        },
        "tags": [],
        "id": "haUfhrUGz8ec"
      },
      "outputs": [],
      "source": [
        "indices = pd.Series(netflix_overall.index, index=netflix_overall['title']).drop_duplicates()"
      ]
    },
    {
      "cell_type": "code",
      "execution_count": null,
      "metadata": {
        "papermill": {
          "duration": 0.114792,
          "end_time": "2021-02-25T06:30:33.125146",
          "exception": false,
          "start_time": "2021-02-25T06:30:33.010354",
          "status": "completed"
        },
        "tags": [],
        "id": "sbo0v6jwz8ec"
      },
      "outputs": [],
      "source": [
        "def get_recommendations(title, cosine_sim=cosine_sim):\n",
        "    idx = indices[title]\n",
        "\n",
        "    # Get the pairwsie similarity scores of all movies with that movie\n",
        "    sim_scores = list(enumerate(cosine_sim[idx]))\n",
        "\n",
        "    # Sort the movies based on the similarity scores\n",
        "    sim_scores = sorted(sim_scores, key=lambda x: x[1], reverse=True)\n",
        "\n",
        "    # Get the scores of the 10 most similar movies\n",
        "    sim_scores = sim_scores[1:11]\n",
        "\n",
        "    # Get the movie indices\n",
        "    movie_indices = [i[0] for i in sim_scores]\n",
        "\n",
        "    # Return the top 10 most similar movies\n",
        "    return netflix_overall['title'].iloc[movie_indices]"
      ]
    },
    {
      "cell_type": "markdown",
      "metadata": {
        "papermill": {
          "duration": 0.101017,
          "end_time": "2021-02-25T06:30:33.327763",
          "exception": false,
          "start_time": "2021-02-25T06:30:33.226746",
          "status": "completed"
        },
        "tags": [],
        "id": "sPYRZfgnz8ec"
      },
      "source": [
        "This recommendation is just based on the Plot."
      ]
    },
    {
      "cell_type": "code",
      "execution_count": null,
      "metadata": {
        "papermill": {
          "duration": 0.122499,
          "end_time": "2021-02-25T06:30:33.552162",
          "exception": false,
          "start_time": "2021-02-25T06:30:33.429663",
          "status": "completed"
        },
        "tags": [],
        "id": "8YfizeYmz8ec"
      },
      "outputs": [],
      "source": [
        "get_recommendations('Peaky Blinders')"
      ]
    },
    {
      "cell_type": "code",
      "execution_count": null,
      "metadata": {
        "papermill": {
          "duration": 0.12361,
          "end_time": "2021-02-25T06:30:33.776932",
          "exception": false,
          "start_time": "2021-02-25T06:30:33.653322",
          "status": "completed"
        },
        "tags": [],
        "id": "qvM-uDENz8ed"
      },
      "outputs": [],
      "source": [
        "get_recommendations('Mortel')"
      ]
    },
    {
      "cell_type": "markdown",
      "metadata": {
        "papermill": {
          "duration": 0.103428,
          "end_time": "2021-02-25T06:30:33.983628",
          "exception": false,
          "start_time": "2021-02-25T06:30:33.880200",
          "status": "completed"
        },
        "tags": [],
        "id": "ZiubWF81z8ed"
      },
      "source": [
        "It is seen that the model performs well, but is not very accurate.Therefore, more metrics are added to the model to improve performance."
      ]
    },
    {
      "cell_type": "markdown",
      "metadata": {
        "papermill": {
          "duration": 0.102312,
          "end_time": "2021-02-25T06:30:34.189060",
          "exception": false,
          "start_time": "2021-02-25T06:30:34.086748",
          "status": "completed"
        },
        "tags": [],
        "id": "QHdrtGYuz8ed"
      },
      "source": [
        "# Content based filtering on multiple metrics"
      ]
    },
    {
      "cell_type": "markdown",
      "metadata": {
        "papermill": {
          "duration": 0.102078,
          "end_time": "2021-02-25T06:30:34.393637",
          "exception": false,
          "start_time": "2021-02-25T06:30:34.291559",
          "status": "completed"
        },
        "tags": [],
        "id": "UeiGHfI4z8ed"
      },
      "source": [
        "Content based filtering on the following factors:\n",
        "* Title\n",
        "* Cast\n",
        "* Director\n",
        "* Listed in\n",
        "* Plot"
      ]
    },
    {
      "cell_type": "markdown",
      "metadata": {
        "papermill": {
          "duration": 0.102616,
          "end_time": "2021-02-25T06:30:34.598511",
          "exception": false,
          "start_time": "2021-02-25T06:30:34.495895",
          "status": "completed"
        },
        "tags": [],
        "id": "8MwglnY_z8ee"
      },
      "source": [
        "Filling null values with empty string."
      ]
    },
    {
      "cell_type": "code",
      "execution_count": null,
      "metadata": {
        "papermill": {
          "duration": 0.137797,
          "end_time": "2021-02-25T06:30:34.839012",
          "exception": false,
          "start_time": "2021-02-25T06:30:34.701215",
          "status": "completed"
        },
        "tags": [],
        "id": "W1coJbdHz8ee"
      },
      "outputs": [],
      "source": [
        "filledna=netflix_overall.fillna('')\n",
        "filledna.head(2)"
      ]
    },
    {
      "cell_type": "markdown",
      "metadata": {
        "papermill": {
          "duration": 0.103823,
          "end_time": "2021-02-25T06:30:35.046242",
          "exception": false,
          "start_time": "2021-02-25T06:30:34.942419",
          "status": "completed"
        },
        "tags": [],
        "id": "9I_b5J5az8ee"
      },
      "source": [
        "Cleaning the data - making all the words lower case"
      ]
    },
    {
      "cell_type": "code",
      "execution_count": null,
      "metadata": {
        "papermill": {
          "duration": 0.113259,
          "end_time": "2021-02-25T06:30:35.263917",
          "exception": false,
          "start_time": "2021-02-25T06:30:35.150658",
          "status": "completed"
        },
        "tags": [],
        "id": "jwfYhbu1z8ef"
      },
      "outputs": [],
      "source": [
        "def clean_data(x):\n",
        "        return str.lower(x.replace(\" \", \"\"))"
      ]
    },
    {
      "cell_type": "markdown",
      "metadata": {
        "papermill": {
          "duration": 0.102853,
          "end_time": "2021-02-25T06:30:35.470442",
          "exception": false,
          "start_time": "2021-02-25T06:30:35.367589",
          "status": "completed"
        },
        "tags": [],
        "id": "v80XnrTyz8ef"
      },
      "source": [
        "Identifying features on which the model is to be filtered."
      ]
    },
    {
      "cell_type": "code",
      "execution_count": null,
      "metadata": {
        "papermill": {
          "duration": 0.117674,
          "end_time": "2021-02-25T06:30:35.690847",
          "exception": false,
          "start_time": "2021-02-25T06:30:35.573173",
          "status": "completed"
        },
        "tags": [],
        "id": "tegzGWRiz8ef"
      },
      "outputs": [],
      "source": [
        "features=['title','director','cast','listed_in','description']\n",
        "filledna=filledna[features]"
      ]
    },
    {
      "cell_type": "code",
      "execution_count": null,
      "metadata": {
        "papermill": {
          "duration": 0.174653,
          "end_time": "2021-02-25T06:30:35.970162",
          "exception": false,
          "start_time": "2021-02-25T06:30:35.795509",
          "status": "completed"
        },
        "tags": [],
        "id": "YUcaMsRWz8ef"
      },
      "outputs": [],
      "source": [
        "for feature in features:\n",
        "    filledna[feature] = filledna[feature].apply(clean_data)\n",
        "    \n",
        "filledna.head(2)"
      ]
    },
    {
      "cell_type": "markdown",
      "metadata": {
        "papermill": {
          "duration": 0.107427,
          "end_time": "2021-02-25T06:30:36.180409",
          "exception": false,
          "start_time": "2021-02-25T06:30:36.072982",
          "status": "completed"
        },
        "tags": [],
        "id": "EVATlUJCz8eg"
      },
      "source": [
        "Creating a \"soup\" or a \"bag of words\" for all rows."
      ]
    },
    {
      "cell_type": "code",
      "execution_count": null,
      "metadata": {
        "papermill": {
          "duration": 0.112271,
          "end_time": "2021-02-25T06:30:36.396659",
          "exception": false,
          "start_time": "2021-02-25T06:30:36.284388",
          "status": "completed"
        },
        "tags": [],
        "id": "MdvSVKGZz8eg"
      },
      "outputs": [],
      "source": [
        "def create_soup(x):\n",
        "    return x['title']+ ' ' + x['director'] + ' ' + x['cast'] + ' ' +x['listed_in']+' '+ x['description']"
      ]
    },
    {
      "cell_type": "code",
      "execution_count": null,
      "metadata": {
        "papermill": {
          "duration": 0.78437,
          "end_time": "2021-02-25T06:30:37.291600",
          "exception": false,
          "start_time": "2021-02-25T06:30:36.507230",
          "status": "completed"
        },
        "tags": [],
        "id": "ov-ImRIPz8eg"
      },
      "outputs": [],
      "source": [
        "filledna['soup'] = filledna.apply(create_soup, axis=1)\n"
      ]
    },
    {
      "cell_type": "markdown",
      "metadata": {
        "papermill": {
          "duration": 0.102319,
          "end_time": "2021-02-25T06:30:37.497003",
          "exception": false,
          "start_time": "2021-02-25T06:30:37.394684",
          "status": "completed"
        },
        "tags": [],
        "id": "E5ST_ZW9z8eg"
      },
      "source": [
        "From here on, the code is basically similar to the upper model except the fact that count vectorizer is used instead of tfidf."
      ]
    },
    {
      "cell_type": "code",
      "execution_count": null,
      "metadata": {
        "papermill": {
          "duration": 1.52557,
          "end_time": "2021-02-25T06:30:39.125530",
          "exception": false,
          "start_time": "2021-02-25T06:30:37.599960",
          "status": "completed"
        },
        "tags": [],
        "id": "ap5PfSnNz8eg"
      },
      "outputs": [],
      "source": [
        "from sklearn.feature_extraction.text import CountVectorizer\n",
        "from sklearn.metrics.pairwise import cosine_similarity\n",
        "\n",
        "count = CountVectorizer(stop_words='english')\n",
        "count_matrix = count.fit_transform(filledna['soup'])\n",
        "\n",
        "cosine_sim2 = cosine_similarity(count_matrix, count_matrix)"
      ]
    },
    {
      "cell_type": "code",
      "execution_count": null,
      "metadata": {
        "papermill": {
          "duration": 0.117233,
          "end_time": "2021-02-25T06:30:39.346622",
          "exception": false,
          "start_time": "2021-02-25T06:30:39.229389",
          "status": "completed"
        },
        "tags": [],
        "id": "gEQtPxpvz8eh"
      },
      "outputs": [],
      "source": [
        "filledna=filledna.reset_index()\n",
        "indices = pd.Series(filledna.index, index=filledna['title'])"
      ]
    },
    {
      "cell_type": "code",
      "execution_count": null,
      "metadata": {
        "papermill": {
          "duration": 0.115068,
          "end_time": "2021-02-25T06:30:39.565301",
          "exception": false,
          "start_time": "2021-02-25T06:30:39.450233",
          "status": "completed"
        },
        "tags": [],
        "id": "Ob1jKK0Mz8eh"
      },
      "outputs": [],
      "source": [
        "def get_recommendations_new(title, cosine_sim=cosine_sim):\n",
        "    title=title.replace(' ','').lower()\n",
        "    idx = indices[title]\n",
        "\n",
        "    # Get the pairwsie similarity scores of all movies with that movie\n",
        "    sim_scores = list(enumerate(cosine_sim[idx]))\n",
        "\n",
        "    # Sort the movies based on the similarity scores\n",
        "    sim_scores = sorted(sim_scores, key=lambda x: x[1], reverse=True)\n",
        "\n",
        "    # Get the scores of the 10 most similar movies\n",
        "    sim_scores = sim_scores[1:11]\n",
        "\n",
        "    # Get the movie indices\n",
        "    movie_indices = [i[0] for i in sim_scores]\n",
        "\n",
        "    # Return the top 10 most similar movies\n",
        "    return netflix_overall['title'].iloc[movie_indices]"
      ]
    },
    {
      "cell_type": "code",
      "execution_count": null,
      "metadata": {
        "papermill": {
          "duration": 0.127648,
          "end_time": "2021-02-25T06:30:39.798213",
          "exception": false,
          "start_time": "2021-02-25T06:30:39.670565",
          "status": "completed"
        },
        "tags": [],
        "id": "u3mai_IDz8eh"
      },
      "outputs": [],
      "source": [
        "get_recommendations_new('PK', cosine_sim2)"
      ]
    },
    {
      "cell_type": "code",
      "execution_count": null,
      "metadata": {
        "papermill": {
          "duration": 0.127012,
          "end_time": "2021-02-25T06:30:40.033115",
          "exception": false,
          "start_time": "2021-02-25T06:30:39.906103",
          "status": "completed"
        },
        "tags": [],
        "id": "g730ZvToz8ei"
      },
      "outputs": [],
      "source": [
        "get_recommendations_new('Peaky Blinders', cosine_sim2)"
      ]
    },
    {
      "cell_type": "code",
      "execution_count": null,
      "metadata": {
        "papermill": {
          "duration": 0.127212,
          "end_time": "2021-02-25T06:30:40.268490",
          "exception": false,
          "start_time": "2021-02-25T06:30:40.141278",
          "status": "completed"
        },
        "tags": [],
        "id": "bbM1G5j_z8ei"
      },
      "outputs": [],
      "source": [
        "get_recommendations_new('The Hook Up Plan', cosine_sim2)"
      ]
    },
    {
      "cell_type": "markdown",
      "metadata": {
        "papermill": {
          "duration": 0.103838,
          "end_time": "2021-02-25T06:30:40.478887",
          "exception": false,
          "start_time": "2021-02-25T06:30:40.375049",
          "status": "completed"
        },
        "tags": [],
        "id": "fRORPjEcz8ei"
      },
      "source": [
        "# How many Netflix Shows/ Movies are made from books as their storylines?"
      ]
    },
    {
      "cell_type": "markdown",
      "metadata": {
        "papermill": {
          "duration": 0.104597,
          "end_time": "2021-02-25T06:30:40.688148",
          "exception": false,
          "start_time": "2021-02-25T06:30:40.583551",
          "status": "completed"
        },
        "tags": [],
        "id": "TJXA9xg7z8ei"
      },
      "source": [
        "For a detailed book recommendation system with both content and collaborative filtering click :\n",
        "    [Book Recommendation, EDA](https://www.kaggle.com/niharika41298/netflix-or-books-recommender-analysis-eda)"
      ]
    },
    {
      "cell_type": "code",
      "execution_count": null,
      "metadata": {
        "papermill": {
          "duration": 0.309882,
          "end_time": "2021-02-25T06:30:41.106581",
          "exception": false,
          "start_time": "2021-02-25T06:30:40.796699",
          "status": "completed"
        },
        "tags": [],
        "id": "DJ-IzrTlz8ej"
      },
      "outputs": [],
      "source": [
        "books=pd.read_csv('/kaggle/input/goodbooks-10k/books.csv')\n",
        "books['original_title']=books['original_title'].str.lower()\n",
        "x=netflix_overall\n",
        "x['title']=x['title'].str.lower()\n",
        "t=x.merge(books, left_on='title', right_on='original_title', how=\"inner\")"
      ]
    },
    {
      "cell_type": "code",
      "execution_count": null,
      "metadata": {
        "papermill": {
          "duration": 0.117777,
          "end_time": "2021-02-25T06:30:41.333518",
          "exception": false,
          "start_time": "2021-02-25T06:30:41.215741",
          "status": "completed"
        },
        "tags": [],
        "id": "vKCipCkez8ej"
      },
      "outputs": [],
      "source": [
        "t.shape"
      ]
    },
    {
      "cell_type": "code",
      "execution_count": null,
      "metadata": {
        "papermill": {
          "duration": 0.275719,
          "end_time": "2021-02-25T06:30:41.714052",
          "exception": false,
          "start_time": "2021-02-25T06:30:41.438333",
          "status": "completed"
        },
        "tags": [],
        "id": "oi6WtspEz8ej"
      },
      "outputs": [],
      "source": [
        "import plotly.graph_objects as go\n",
        "\n",
        "labels = ['Shows from books','Shows not from books']\n",
        "values = [248,6234]\n",
        "\n",
        "fig = go.Figure(data=[go.Pie(labels=labels, values=values)])\n",
        "fig.show()"
      ]
    },
    {
      "cell_type": "markdown",
      "metadata": {
        "papermill": {
          "duration": 0.109431,
          "end_time": "2021-02-25T06:30:41.932169",
          "exception": false,
          "start_time": "2021-02-25T06:30:41.822738",
          "status": "completed"
        },
        "tags": [],
        "id": "CFUrI2stz8ej"
      },
      "source": [
        "Hence, more accurate predictions are obtained."
      ]
    },
    {
      "cell_type": "markdown",
      "metadata": {
        "papermill": {
          "duration": 0.106327,
          "end_time": "2021-02-25T06:30:42.144934",
          "exception": false,
          "start_time": "2021-02-25T06:30:42.038607",
          "status": "completed"
        },
        "tags": [],
        "id": "amGYoicwz8ek"
      },
      "source": [
        "![Made with ♥](https://forthebadge.com/images/badges/built-with-love.svg)\n",
        "Please upvote if you liked the kernel! 😀"
      ]
    }
  ],
  "metadata": {
    "kernelspec": {
      "display_name": "Python 3",
      "language": "python",
      "name": "python3"
    },
    "language_info": {
      "codemirror_mode": {
        "name": "ipython",
        "version": 3
      },
      "file_extension": ".py",
      "mimetype": "text/x-python",
      "name": "python",
      "nbconvert_exporter": "python",
      "pygments_lexer": "ipython3",
      "version": "3.7.6"
    },
    "papermill": {
      "duration": 54.537311,
      "end_time": "2021-02-25T06:30:43.290253",
      "environment_variables": {},
      "exception": null,
      "input_path": "__notebook__.ipynb",
      "output_path": "__notebook__.ipynb",
      "parameters": {},
      "start_time": "2021-02-25T06:29:48.752942",
      "version": "1.2.1"
    },
    "colab": {
      "name": "Kelompok 7_netflix-visualizations-recommendation-eda.ipynb",
      "provenance": [],
      "collapsed_sections": [
        "WQZql5GMz8eZ"
      ],
      "include_colab_link": true
    }
  },
  "nbformat": 4,
  "nbformat_minor": 0
}